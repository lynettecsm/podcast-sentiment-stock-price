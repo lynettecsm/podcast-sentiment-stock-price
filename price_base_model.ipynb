{
  "cells": [
    {
      "cell_type": "markdown",
      "metadata": {
        "colab_type": "text",
        "id": "view-in-github"
      },
      "source": [
        "<a href=\"https://colab.research.google.com/github/YanzhaoZ/PreBit/blob/main/price_base_model.ipynb\" target=\"_parent\"><img src=\"https://colab.research.google.com/assets/colab-badge.svg\" alt=\"Open In Colab\"/></a>"
      ]
    },
    {
      "cell_type": "code",
      "execution_count": 82,
      "metadata": {
        "colab": {
          "base_uri": "https://localhost:8080/"
        },
        "id": "lc-7-zJw3Siv",
        "outputId": "d8e6bcd9-3c84-4da5-b4da-0258cede34d5"
      },
      "outputs": [
        {
          "name": "stdout",
          "output_type": "stream",
          "text": [
            "Requirement already satisfied: yfinance in ./.venv/lib/python3.9/site-packages (0.2.54)\n",
            "Requirement already satisfied: pandas>=1.3.0 in ./.venv/lib/python3.9/site-packages (from yfinance) (2.2.3)\n",
            "Requirement already satisfied: numpy>=1.16.5 in ./.venv/lib/python3.9/site-packages (from yfinance) (1.24.4)\n",
            "Requirement already satisfied: requests>=2.31 in ./.venv/lib/python3.9/site-packages (from yfinance) (2.32.3)\n",
            "Requirement already satisfied: multitasking>=0.0.7 in ./.venv/lib/python3.9/site-packages (from yfinance) (0.0.11)\n",
            "Requirement already satisfied: platformdirs>=2.0.0 in ./.venv/lib/python3.9/site-packages (from yfinance) (4.3.6)\n",
            "Requirement already satisfied: pytz>=2022.5 in ./.venv/lib/python3.9/site-packages (from yfinance) (2025.1)\n",
            "Requirement already satisfied: frozendict>=2.3.4 in ./.venv/lib/python3.9/site-packages (from yfinance) (2.4.6)\n",
            "Requirement already satisfied: peewee>=3.16.2 in ./.venv/lib/python3.9/site-packages (from yfinance) (3.17.9)\n",
            "Requirement already satisfied: beautifulsoup4>=4.11.1 in ./.venv/lib/python3.9/site-packages (from yfinance) (4.13.3)\n",
            "Requirement already satisfied: soupsieve>1.2 in ./.venv/lib/python3.9/site-packages (from beautifulsoup4>=4.11.1->yfinance) (2.6)\n",
            "Requirement already satisfied: typing-extensions>=4.0.0 in ./.venv/lib/python3.9/site-packages (from beautifulsoup4>=4.11.1->yfinance) (4.12.2)\n",
            "Requirement already satisfied: python-dateutil>=2.8.2 in ./.venv/lib/python3.9/site-packages (from pandas>=1.3.0->yfinance) (2.9.0.post0)\n",
            "Requirement already satisfied: tzdata>=2022.7 in ./.venv/lib/python3.9/site-packages (from pandas>=1.3.0->yfinance) (2025.1)\n",
            "Requirement already satisfied: charset-normalizer<4,>=2 in ./.venv/lib/python3.9/site-packages (from requests>=2.31->yfinance) (3.4.1)\n",
            "Requirement already satisfied: idna<4,>=2.5 in ./.venv/lib/python3.9/site-packages (from requests>=2.31->yfinance) (3.10)\n",
            "Requirement already satisfied: urllib3<3,>=1.21.1 in ./.venv/lib/python3.9/site-packages (from requests>=2.31->yfinance) (2.3.0)\n",
            "Requirement already satisfied: certifi>=2017.4.17 in ./.venv/lib/python3.9/site-packages (from requests>=2.31->yfinance) (2025.1.31)\n",
            "Requirement already satisfied: six>=1.5 in ./.venv/lib/python3.9/site-packages (from python-dateutil>=2.8.2->pandas>=1.3.0->yfinance) (1.17.0)\n",
            "Note: you may need to restart the kernel to use updated packages.\n"
          ]
        }
      ],
      "source": [
        "%pip install yfinance\n",
        "import yfinance as yf\n",
        "import pandas as pd\n"
      ]
    },
    {
      "cell_type": "code",
      "execution_count": 83,
      "metadata": {
        "id": "5Xma4YZj3tvk"
      },
      "outputs": [],
      "source": [
        "import torch\n",
        "from torch.utils.data import TensorDataset, DataLoader\n",
        "import torch.nn as nn\n",
        "import torch.optim as optim\n",
        "import torch.nn.functional as F\n",
        "\n",
        "import matplotlib.pyplot as plt\n",
        "import time\n",
        "\n",
        "from sklearn.metrics import confusion_matrix\n",
        "from sklearn.preprocessing import MinMaxScaler\n"
      ]
    },
    {
      "cell_type": "markdown",
      "metadata": {
        "id": "bDVM1wj74Fp5"
      },
      "source": [
        "# Loading the Price Data"
      ]
    },
    {
      "cell_type": "code",
      "execution_count": 84,
      "metadata": {
        "colab": {
          "base_uri": "https://localhost:8080/"
        },
        "id": "X3c3XaB84IjI",
        "outputId": "9fc22112-ece5-4167-e9a0-19ff093e0bda"
      },
      "outputs": [
        {
          "name": "stderr",
          "output_type": "stream",
          "text": [
            "[*********************100%***********************]  1 of 1 completed\n"
          ]
        }
      ],
      "source": [
        "start_date ='2023-07-12'\n",
        "end_date = '2025-04-11'\n",
        "#Earliest date: 2023-07-12 10:27:37+00:00\n",
        "#Latest date: 2025-04-11 10:41:54+00:00\n",
        "price = yf.download(\"NVDA\", start=start_date, end=end_date)\n",
        "\n",
        "#relative_price, will calculate the change in % compared to the day before. \n",
        "relative_price = (price/price.shift(1)-1)"
      ]
    },
    {
      "cell_type": "code",
      "execution_count": 85,
      "metadata": {
        "colab": {
          "base_uri": "https://localhost:8080/",
          "height": 235
        },
        "id": "6sVagzx54SiG",
        "outputId": "cc1d7ee4-3927-441e-8b47-3ec9b4be7180"
      },
      "outputs": [
        {
          "data": {
            "text/html": [
              "<div>\n",
              "<style scoped>\n",
              "    .dataframe tbody tr th:only-of-type {\n",
              "        vertical-align: middle;\n",
              "    }\n",
              "\n",
              "    .dataframe tbody tr th {\n",
              "        vertical-align: top;\n",
              "    }\n",
              "\n",
              "    .dataframe thead tr th {\n",
              "        text-align: left;\n",
              "    }\n",
              "\n",
              "    .dataframe thead tr:last-of-type th {\n",
              "        text-align: right;\n",
              "    }\n",
              "</style>\n",
              "<table border=\"1\" class=\"dataframe\">\n",
              "  <thead>\n",
              "    <tr>\n",
              "      <th>Price</th>\n",
              "      <th>Close</th>\n",
              "      <th>High</th>\n",
              "      <th>Low</th>\n",
              "      <th>Open</th>\n",
              "      <th>Volume</th>\n",
              "    </tr>\n",
              "    <tr>\n",
              "      <th>Ticker</th>\n",
              "      <th>NVDA</th>\n",
              "      <th>NVDA</th>\n",
              "      <th>NVDA</th>\n",
              "      <th>NVDA</th>\n",
              "      <th>NVDA</th>\n",
              "    </tr>\n",
              "    <tr>\n",
              "      <th>Date</th>\n",
              "      <th></th>\n",
              "      <th></th>\n",
              "      <th></th>\n",
              "      <th></th>\n",
              "      <th></th>\n",
              "    </tr>\n",
              "  </thead>\n",
              "  <tbody>\n",
              "    <tr>\n",
              "      <th>2023-07-12</th>\n",
              "      <td>43.878044</td>\n",
              "      <td>43.911027</td>\n",
              "      <td>42.753658</td>\n",
              "      <td>43.009519</td>\n",
              "      <td>481277000</td>\n",
              "    </tr>\n",
              "    <tr>\n",
              "      <th>2023-07-13</th>\n",
              "      <td>45.951912</td>\n",
              "      <td>46.129812</td>\n",
              "      <td>44.467722</td>\n",
              "      <td>44.493708</td>\n",
              "      <td>478204000</td>\n",
              "    </tr>\n",
              "    <tr>\n",
              "      <th>2023-07-14</th>\n",
              "      <td>45.444191</td>\n",
              "      <td>48.061761</td>\n",
              "      <td>45.035414</td>\n",
              "      <td>46.557582</td>\n",
              "      <td>772075000</td>\n",
              "    </tr>\n",
              "    <tr>\n",
              "      <th>2023-07-17</th>\n",
              "      <td>46.435650</td>\n",
              "      <td>46.470631</td>\n",
              "      <td>45.237307</td>\n",
              "      <td>46.263747</td>\n",
              "      <td>510488000</td>\n",
              "    </tr>\n",
              "    <tr>\n",
              "      <th>2023-07-18</th>\n",
              "      <td>47.468086</td>\n",
              "      <td>47.869867</td>\n",
              "      <td>45.709048</td>\n",
              "      <td>46.675520</td>\n",
              "      <td>569164000</td>\n",
              "    </tr>\n",
              "  </tbody>\n",
              "</table>\n",
              "</div>"
            ],
            "text/plain": [
              "Price           Close       High        Low       Open     Volume\n",
              "Ticker           NVDA       NVDA       NVDA       NVDA       NVDA\n",
              "Date                                                             \n",
              "2023-07-12  43.878044  43.911027  42.753658  43.009519  481277000\n",
              "2023-07-13  45.951912  46.129812  44.467722  44.493708  478204000\n",
              "2023-07-14  45.444191  48.061761  45.035414  46.557582  772075000\n",
              "2023-07-17  46.435650  46.470631  45.237307  46.263747  510488000\n",
              "2023-07-18  47.468086  47.869867  45.709048  46.675520  569164000"
            ]
          },
          "execution_count": 85,
          "metadata": {},
          "output_type": "execute_result"
        }
      ],
      "source": [
        "price.head()"
      ]
    },
    {
      "cell_type": "code",
      "execution_count": 86,
      "metadata": {
        "colab": {
          "base_uri": "https://localhost:8080/",
          "height": 235
        },
        "id": "LT3XXVz64TjA",
        "outputId": "5d32ecdb-acc2-4dcc-cc90-0970a3578ca1"
      },
      "outputs": [
        {
          "data": {
            "text/html": [
              "<div>\n",
              "<style scoped>\n",
              "    .dataframe tbody tr th:only-of-type {\n",
              "        vertical-align: middle;\n",
              "    }\n",
              "\n",
              "    .dataframe tbody tr th {\n",
              "        vertical-align: top;\n",
              "    }\n",
              "\n",
              "    .dataframe thead tr th {\n",
              "        text-align: left;\n",
              "    }\n",
              "\n",
              "    .dataframe thead tr:last-of-type th {\n",
              "        text-align: right;\n",
              "    }\n",
              "</style>\n",
              "<table border=\"1\" class=\"dataframe\">\n",
              "  <thead>\n",
              "    <tr>\n",
              "      <th>Price</th>\n",
              "      <th>Close</th>\n",
              "      <th>High</th>\n",
              "      <th>Low</th>\n",
              "      <th>Open</th>\n",
              "      <th>Volume</th>\n",
              "    </tr>\n",
              "    <tr>\n",
              "      <th>Ticker</th>\n",
              "      <th>NVDA</th>\n",
              "      <th>NVDA</th>\n",
              "      <th>NVDA</th>\n",
              "      <th>NVDA</th>\n",
              "      <th>NVDA</th>\n",
              "    </tr>\n",
              "    <tr>\n",
              "      <th>Date</th>\n",
              "      <th></th>\n",
              "      <th></th>\n",
              "      <th></th>\n",
              "      <th></th>\n",
              "      <th></th>\n",
              "    </tr>\n",
              "  </thead>\n",
              "  <tbody>\n",
              "    <tr>\n",
              "      <th>2023-07-12</th>\n",
              "      <td>NaN</td>\n",
              "      <td>NaN</td>\n",
              "      <td>NaN</td>\n",
              "      <td>NaN</td>\n",
              "      <td>NaN</td>\n",
              "    </tr>\n",
              "    <tr>\n",
              "      <th>2023-07-13</th>\n",
              "      <td>0.047264</td>\n",
              "      <td>0.050529</td>\n",
              "      <td>0.040092</td>\n",
              "      <td>0.034508</td>\n",
              "      <td>-0.006385</td>\n",
              "    </tr>\n",
              "    <tr>\n",
              "      <th>2023-07-14</th>\n",
              "      <td>-0.011049</td>\n",
              "      <td>0.041881</td>\n",
              "      <td>0.012766</td>\n",
              "      <td>0.046386</td>\n",
              "      <td>0.614531</td>\n",
              "    </tr>\n",
              "    <tr>\n",
              "      <th>2023-07-17</th>\n",
              "      <td>0.021817</td>\n",
              "      <td>-0.033106</td>\n",
              "      <td>0.004483</td>\n",
              "      <td>-0.006311</td>\n",
              "      <td>-0.338810</td>\n",
              "    </tr>\n",
              "    <tr>\n",
              "      <th>2023-07-18</th>\n",
              "      <td>0.022234</td>\n",
              "      <td>0.030110</td>\n",
              "      <td>0.010428</td>\n",
              "      <td>0.008901</td>\n",
              "      <td>0.114941</td>\n",
              "    </tr>\n",
              "  </tbody>\n",
              "</table>\n",
              "</div>"
            ],
            "text/plain": [
              "Price          Close      High       Low      Open    Volume\n",
              "Ticker          NVDA      NVDA      NVDA      NVDA      NVDA\n",
              "Date                                                        \n",
              "2023-07-12       NaN       NaN       NaN       NaN       NaN\n",
              "2023-07-13  0.047264  0.050529  0.040092  0.034508 -0.006385\n",
              "2023-07-14 -0.011049  0.041881  0.012766  0.046386  0.614531\n",
              "2023-07-17  0.021817 -0.033106  0.004483 -0.006311 -0.338810\n",
              "2023-07-18  0.022234  0.030110  0.010428  0.008901  0.114941"
            ]
          },
          "execution_count": 86,
          "metadata": {},
          "output_type": "execute_result"
        }
      ],
      "source": [
        "relative_price.head()"
      ]
    },
    {
      "cell_type": "code",
      "execution_count": 87,
      "metadata": {
        "id": "HVFcYkrn8V6J"
      },
      "outputs": [],
      "source": [
        "#add in the label\n",
        "#I can start with the % change of the daily closing price, then create labels.\n",
        "\n",
        "price_2 = price[[\"Close\"]].copy()  # Keeps it as a DataFrame\n",
        "\n",
        "price['change']=price_2.apply(lambda x: x.shift(-1)/x -1)\n",
        "price['change_label']=price['change'].apply (lambda x: x>0 )\n",
        "#NaN > 0 gives false? Perhaps I could drop na before this step? \n",
        "\n",
        "\n",
        "#copy the label to relative_price part as well. \n",
        "relative_price['change'] = price['change']\n",
        "relative_price['change_label']=price['change_label']"
      ]
    },
    {
      "cell_type": "code",
      "execution_count": 88,
      "metadata": {
        "colab": {
          "base_uri": "https://localhost:8080/"
        },
        "id": "DsjYzgecBezO",
        "outputId": "6f8f5698-e8e2-4b12-8dc5-a4e0b1d4d36d"
      },
      "outputs": [
        {
          "name": "stdout",
          "output_type": "stream",
          "text": [
            "440 440\n"
          ]
        }
      ],
      "source": [
        "print (len(price),len(relative_price))"
      ]
    },
    {
      "cell_type": "code",
      "execution_count": 89,
      "metadata": {
        "id": "JUHGLoLbAaRo"
      },
      "outputs": [],
      "source": [
        "price = price.dropna()\n",
        "relative_price = relative_price.dropna()"
      ]
    },
    {
      "cell_type": "code",
      "execution_count": 90,
      "metadata": {
        "colab": {
          "base_uri": "https://localhost:8080/"
        },
        "id": "LIfAXYnnAfNC",
        "outputId": "64431671-1766-4e76-b845-e11a1750a3dc"
      },
      "outputs": [
        {
          "name": "stdout",
          "output_type": "stream",
          "text": [
            "439 438\n"
          ]
        }
      ],
      "source": [
        "#price would lose the last day, because no information on next day price to create the label\n",
        "#relative price, would ALSO lose the first day, because no information to calculate the relative changes .\n",
        "print (len(price),len(relative_price))"
      ]
    },
    {
      "cell_type": "code",
      "execution_count": 91,
      "metadata": {
        "colab": {
          "base_uri": "https://localhost:8080/",
          "height": 297
        },
        "id": "kXbYBnlUIsnK",
        "outputId": "bd5a6b76-b322-432b-cae6-f098ad643a25"
      },
      "outputs": [
        {
          "data": {
            "text/html": [
              "<div>\n",
              "<style scoped>\n",
              "    .dataframe tbody tr th:only-of-type {\n",
              "        vertical-align: middle;\n",
              "    }\n",
              "\n",
              "    .dataframe tbody tr th {\n",
              "        vertical-align: top;\n",
              "    }\n",
              "\n",
              "    .dataframe thead tr th {\n",
              "        text-align: left;\n",
              "    }\n",
              "\n",
              "    .dataframe thead tr:last-of-type th {\n",
              "        text-align: right;\n",
              "    }\n",
              "</style>\n",
              "<table border=\"1\" class=\"dataframe\">\n",
              "  <thead>\n",
              "    <tr>\n",
              "      <th>Price</th>\n",
              "      <th>Close</th>\n",
              "      <th>High</th>\n",
              "      <th>Low</th>\n",
              "      <th>Open</th>\n",
              "      <th>Volume</th>\n",
              "      <th>change</th>\n",
              "      <th>change_label</th>\n",
              "    </tr>\n",
              "    <tr>\n",
              "      <th>Ticker</th>\n",
              "      <th>NVDA</th>\n",
              "      <th>NVDA</th>\n",
              "      <th>NVDA</th>\n",
              "      <th>NVDA</th>\n",
              "      <th>NVDA</th>\n",
              "      <th></th>\n",
              "      <th></th>\n",
              "    </tr>\n",
              "    <tr>\n",
              "      <th>Date</th>\n",
              "      <th></th>\n",
              "      <th></th>\n",
              "      <th></th>\n",
              "      <th></th>\n",
              "      <th></th>\n",
              "      <th></th>\n",
              "      <th></th>\n",
              "    </tr>\n",
              "  </thead>\n",
              "  <tbody>\n",
              "    <tr>\n",
              "      <th>2023-07-20</th>\n",
              "      <td>-0.033073</td>\n",
              "      <td>-0.015287</td>\n",
              "      <td>-0.035942</td>\n",
              "      <td>-0.020163</td>\n",
              "      <td>0.258158</td>\n",
              "      <td>-0.026604</td>\n",
              "      <td>False</td>\n",
              "    </tr>\n",
              "    <tr>\n",
              "      <th>2023-07-21</th>\n",
              "      <td>-0.026604</td>\n",
              "      <td>-0.025931</td>\n",
              "      <td>-0.021348</td>\n",
              "      <td>-0.015460</td>\n",
              "      <td>0.791842</td>\n",
              "      <td>0.006839</td>\n",
              "      <td>True</td>\n",
              "    </tr>\n",
              "    <tr>\n",
              "      <th>2023-07-24</th>\n",
              "      <td>0.006839</td>\n",
              "      <td>-0.016504</td>\n",
              "      <td>-0.001360</td>\n",
              "      <td>-0.023084</td>\n",
              "      <td>-0.603104</td>\n",
              "      <td>0.023917</td>\n",
              "      <td>True</td>\n",
              "    </tr>\n",
              "    <tr>\n",
              "      <th>2023-07-25</th>\n",
              "      <td>0.023917</td>\n",
              "      <td>0.023809</td>\n",
              "      <td>0.020050</td>\n",
              "      <td>0.004695</td>\n",
              "      <td>-0.090022</td>\n",
              "      <td>-0.004969</td>\n",
              "      <td>False</td>\n",
              "    </tr>\n",
              "    <tr>\n",
              "      <th>2023-07-26</th>\n",
              "      <td>-0.004969</td>\n",
              "      <td>-0.002815</td>\n",
              "      <td>-0.006522</td>\n",
              "      <td>0.024032</td>\n",
              "      <td>0.046414</td>\n",
              "      <td>0.009857</td>\n",
              "      <td>True</td>\n",
              "    </tr>\n",
              "    <tr>\n",
              "      <th>2023-07-27</th>\n",
              "      <td>0.009857</td>\n",
              "      <td>0.029140</td>\n",
              "      <td>0.025095</td>\n",
              "      <td>0.010821</td>\n",
              "      <td>0.251866</td>\n",
              "      <td>0.018518</td>\n",
              "      <td>True</td>\n",
              "    </tr>\n",
              "    <tr>\n",
              "      <th>2023-07-28</th>\n",
              "      <td>0.018518</td>\n",
              "      <td>-0.007765</td>\n",
              "      <td>0.013792</td>\n",
              "      <td>0.003203</td>\n",
              "      <td>-0.273659</td>\n",
              "      <td>-0.000449</td>\n",
              "      <td>False</td>\n",
              "    </tr>\n",
              "  </tbody>\n",
              "</table>\n",
              "</div>"
            ],
            "text/plain": [
              "Price          Close      High       Low      Open    Volume    change  \\\n",
              "Ticker          NVDA      NVDA      NVDA      NVDA      NVDA             \n",
              "Date                                                                     \n",
              "2023-07-20 -0.033073 -0.015287 -0.035942 -0.020163  0.258158 -0.026604   \n",
              "2023-07-21 -0.026604 -0.025931 -0.021348 -0.015460  0.791842  0.006839   \n",
              "2023-07-24  0.006839 -0.016504 -0.001360 -0.023084 -0.603104  0.023917   \n",
              "2023-07-25  0.023917  0.023809  0.020050  0.004695 -0.090022 -0.004969   \n",
              "2023-07-26 -0.004969 -0.002815 -0.006522  0.024032  0.046414  0.009857   \n",
              "2023-07-27  0.009857  0.029140  0.025095  0.010821  0.251866  0.018518   \n",
              "2023-07-28  0.018518 -0.007765  0.013792  0.003203 -0.273659 -0.000449   \n",
              "\n",
              "Price      change_label  \n",
              "Ticker                   \n",
              "Date                     \n",
              "2023-07-20        False  \n",
              "2023-07-21         True  \n",
              "2023-07-24         True  \n",
              "2023-07-25        False  \n",
              "2023-07-26         True  \n",
              "2023-07-27         True  \n",
              "2023-07-28        False  "
            ]
          },
          "execution_count": 91,
          "metadata": {},
          "output_type": "execute_result"
        }
      ],
      "source": [
        "relative_price[5:12]"
      ]
    },
    {
      "cell_type": "code",
      "execution_count": 92,
      "metadata": {
        "colab": {
          "base_uri": "https://localhost:8080/"
        },
        "id": "liUvoa7Gis8a",
        "outputId": "315d480c-0884-4633-cf6f-7f5233b242e1"
      },
      "outputs": [
        {
          "data": {
            "text/plain": [
              "change_label\n",
              "True     239\n",
              "False    199\n",
              "Name: count, dtype: int64"
            ]
          },
          "execution_count": 92,
          "metadata": {},
          "output_type": "execute_result"
        }
      ],
      "source": [
        "relative_price['change_label'].value_counts()"
      ]
    },
    {
      "cell_type": "markdown",
      "metadata": {
        "id": "WYalG82ITOko"
      },
      "source": [
        "# Adding in technical indicators"
      ]
    },
    {
      "cell_type": "code",
      "execution_count": 93,
      "metadata": {
        "colab": {
          "base_uri": "https://localhost:8080/",
          "height": 235
        },
        "id": "mKb2fzbvTbQn",
        "outputId": "28c8ea50-4af7-4906-e226-618101a68953"
      },
      "outputs": [
        {
          "data": {
            "text/html": [
              "<div>\n",
              "<style scoped>\n",
              "    .dataframe tbody tr th:only-of-type {\n",
              "        vertical-align: middle;\n",
              "    }\n",
              "\n",
              "    .dataframe tbody tr th {\n",
              "        vertical-align: top;\n",
              "    }\n",
              "\n",
              "    .dataframe thead tr th {\n",
              "        text-align: left;\n",
              "    }\n",
              "\n",
              "    .dataframe thead tr:last-of-type th {\n",
              "        text-align: right;\n",
              "    }\n",
              "</style>\n",
              "<table border=\"1\" class=\"dataframe\">\n",
              "  <thead>\n",
              "    <tr>\n",
              "      <th>Price</th>\n",
              "      <th>Close</th>\n",
              "      <th>High</th>\n",
              "      <th>Low</th>\n",
              "      <th>Open</th>\n",
              "      <th>Volume</th>\n",
              "      <th>change</th>\n",
              "      <th>change_label</th>\n",
              "    </tr>\n",
              "    <tr>\n",
              "      <th>Ticker</th>\n",
              "      <th>NVDA</th>\n",
              "      <th>NVDA</th>\n",
              "      <th>NVDA</th>\n",
              "      <th>NVDA</th>\n",
              "      <th>NVDA</th>\n",
              "      <th></th>\n",
              "      <th></th>\n",
              "    </tr>\n",
              "    <tr>\n",
              "      <th>Date</th>\n",
              "      <th></th>\n",
              "      <th></th>\n",
              "      <th></th>\n",
              "      <th></th>\n",
              "      <th></th>\n",
              "      <th></th>\n",
              "      <th></th>\n",
              "    </tr>\n",
              "  </thead>\n",
              "  <tbody>\n",
              "    <tr>\n",
              "      <th>2023-07-12</th>\n",
              "      <td>43.878044</td>\n",
              "      <td>43.911027</td>\n",
              "      <td>42.753658</td>\n",
              "      <td>43.009519</td>\n",
              "      <td>481277000</td>\n",
              "      <td>0.047264</td>\n",
              "      <td>True</td>\n",
              "    </tr>\n",
              "    <tr>\n",
              "      <th>2023-07-13</th>\n",
              "      <td>45.951912</td>\n",
              "      <td>46.129812</td>\n",
              "      <td>44.467722</td>\n",
              "      <td>44.493708</td>\n",
              "      <td>478204000</td>\n",
              "      <td>-0.011049</td>\n",
              "      <td>False</td>\n",
              "    </tr>\n",
              "    <tr>\n",
              "      <th>2023-07-14</th>\n",
              "      <td>45.444191</td>\n",
              "      <td>48.061761</td>\n",
              "      <td>45.035414</td>\n",
              "      <td>46.557582</td>\n",
              "      <td>772075000</td>\n",
              "      <td>0.021817</td>\n",
              "      <td>True</td>\n",
              "    </tr>\n",
              "    <tr>\n",
              "      <th>2023-07-17</th>\n",
              "      <td>46.435650</td>\n",
              "      <td>46.470631</td>\n",
              "      <td>45.237307</td>\n",
              "      <td>46.263747</td>\n",
              "      <td>510488000</td>\n",
              "      <td>0.022234</td>\n",
              "      <td>True</td>\n",
              "    </tr>\n",
              "    <tr>\n",
              "      <th>2023-07-18</th>\n",
              "      <td>47.468086</td>\n",
              "      <td>47.869867</td>\n",
              "      <td>45.709048</td>\n",
              "      <td>46.675520</td>\n",
              "      <td>569164000</td>\n",
              "      <td>-0.008780</td>\n",
              "      <td>False</td>\n",
              "    </tr>\n",
              "  </tbody>\n",
              "</table>\n",
              "</div>"
            ],
            "text/plain": [
              "Price           Close       High        Low       Open     Volume    change  \\\n",
              "Ticker           NVDA       NVDA       NVDA       NVDA       NVDA             \n",
              "Date                                                                          \n",
              "2023-07-12  43.878044  43.911027  42.753658  43.009519  481277000  0.047264   \n",
              "2023-07-13  45.951912  46.129812  44.467722  44.493708  478204000 -0.011049   \n",
              "2023-07-14  45.444191  48.061761  45.035414  46.557582  772075000  0.021817   \n",
              "2023-07-17  46.435650  46.470631  45.237307  46.263747  510488000  0.022234   \n",
              "2023-07-18  47.468086  47.869867  45.709048  46.675520  569164000 -0.008780   \n",
              "\n",
              "Price      change_label  \n",
              "Ticker                   \n",
              "Date                     \n",
              "2023-07-12         True  \n",
              "2023-07-13        False  \n",
              "2023-07-14         True  \n",
              "2023-07-17         True  \n",
              "2023-07-18        False  "
            ]
          },
          "execution_count": 93,
          "metadata": {},
          "output_type": "execute_result"
        }
      ],
      "source": [
        "price.head()"
      ]
    },
    {
      "cell_type": "code",
      "execution_count": 94,
      "metadata": {
        "id": "WDgrd_QYTfDb"
      },
      "outputs": [],
      "source": [
        "def get_technical_indicators(dataset):\n",
        "    # Create 7 and 21 days Moving Average\n",
        "    dataset['ma7'] = dataset['Close'].rolling(window=7).mean()\n",
        "    dataset['ma21'] = dataset['Close'].rolling(window=21).mean()\n",
        "    \n",
        "    # Create MACD\n",
        "    #dataset['26ema'] = pd.ewma(dataset['Close'], span=26)\n",
        "    dataset['26ema'] = dataset['Close'].ewm(span=26).mean()\n",
        "    #dataset['12ema'] = pd.ewma(dataset['Close'], span=12)\n",
        "    dataset['12ema'] = dataset['Close'].ewm(span=12).mean()\n",
        "    dataset['MACD'] = (dataset['12ema']-dataset['26ema'])\n",
        "\n",
        "    # Create Bollinger Bands\n",
        "    #dataset['20sd'] = pd.stats.moments.rolling_std(dataset['Close'],20)\n",
        "    dataset['20sd'] = dataset[\"Close\"].rolling(window=20).std()\n",
        "    dataset['upper_band'] = dataset['ma21'] + (dataset['20sd']*2)\n",
        "    dataset['lower_band'] = dataset['ma21'] - (dataset['20sd']*2)\n",
        "    \n",
        "    # Create Exponential moving average\n",
        "    dataset['ema'] = dataset['Close'].ewm(com=0.5).mean()\n",
        "    \n",
        "    # Create Momentum\n",
        "    #dataset['momentum'] = dataset['Close']-1\n",
        "    \n",
        "    return dataset\n"
      ]
    },
    {
      "cell_type": "code",
      "execution_count": 95,
      "metadata": {
        "id": "9ZjmUCbWTe5b"
      },
      "outputs": [],
      "source": [
        "test_df = pd.DataFrame({'B':[1,2,3,4,5,6,7]})"
      ]
    },
    {
      "cell_type": "code",
      "execution_count": 96,
      "metadata": {
        "colab": {
          "base_uri": "https://localhost:8080/",
          "height": 37
        },
        "id": "az-2NPXhZRx1",
        "outputId": "42153497-8ea8-4e6c-b0c6-db10f26864a0"
      },
      "outputs": [
        {
          "data": {
            "text/plain": [
              "'2.2.3'"
            ]
          },
          "execution_count": 96,
          "metadata": {},
          "output_type": "execute_result"
        }
      ],
      "source": [
        "pd.__version__"
      ]
    },
    {
      "cell_type": "code",
      "execution_count": 97,
      "metadata": {
        "colab": {
          "base_uri": "https://localhost:8080/"
        },
        "id": "IScz7sVyTesK",
        "outputId": "5f65bb78-abf8-48c0-fe24-f5b460065f9a"
      },
      "outputs": [],
      "source": [
        "price_processed = get_technical_indicators(price)\n",
        "#price.head()"
      ]
    },
    {
      "cell_type": "code",
      "execution_count": 98,
      "metadata": {
        "colab": {
          "base_uri": "https://localhost:8080/",
          "height": 345
        },
        "id": "dn7FwTfraQGt",
        "outputId": "2846c19c-05c7-4f7b-cfa0-0585337bcfce"
      },
      "outputs": [
        {
          "data": {
            "text/html": [
              "<div>\n",
              "<style scoped>\n",
              "    .dataframe tbody tr th:only-of-type {\n",
              "        vertical-align: middle;\n",
              "    }\n",
              "\n",
              "    .dataframe tbody tr th {\n",
              "        vertical-align: top;\n",
              "    }\n",
              "\n",
              "    .dataframe thead tr th {\n",
              "        text-align: left;\n",
              "    }\n",
              "\n",
              "    .dataframe thead tr:last-of-type th {\n",
              "        text-align: right;\n",
              "    }\n",
              "</style>\n",
              "<table border=\"1\" class=\"dataframe\">\n",
              "  <thead>\n",
              "    <tr>\n",
              "      <th>Price</th>\n",
              "      <th>Close</th>\n",
              "      <th>High</th>\n",
              "      <th>Low</th>\n",
              "      <th>Open</th>\n",
              "      <th>Volume</th>\n",
              "      <th>change</th>\n",
              "      <th>change_label</th>\n",
              "      <th>ma7</th>\n",
              "      <th>ma21</th>\n",
              "      <th>26ema</th>\n",
              "      <th>12ema</th>\n",
              "      <th>MACD</th>\n",
              "      <th>20sd</th>\n",
              "      <th>upper_band</th>\n",
              "      <th>lower_band</th>\n",
              "      <th>ema</th>\n",
              "    </tr>\n",
              "    <tr>\n",
              "      <th>Ticker</th>\n",
              "      <th>NVDA</th>\n",
              "      <th>NVDA</th>\n",
              "      <th>NVDA</th>\n",
              "      <th>NVDA</th>\n",
              "      <th>NVDA</th>\n",
              "      <th></th>\n",
              "      <th></th>\n",
              "      <th></th>\n",
              "      <th></th>\n",
              "      <th></th>\n",
              "      <th></th>\n",
              "      <th></th>\n",
              "      <th></th>\n",
              "      <th></th>\n",
              "      <th></th>\n",
              "      <th></th>\n",
              "    </tr>\n",
              "    <tr>\n",
              "      <th>Date</th>\n",
              "      <th></th>\n",
              "      <th></th>\n",
              "      <th></th>\n",
              "      <th></th>\n",
              "      <th></th>\n",
              "      <th></th>\n",
              "      <th></th>\n",
              "      <th></th>\n",
              "      <th></th>\n",
              "      <th></th>\n",
              "      <th></th>\n",
              "      <th></th>\n",
              "      <th></th>\n",
              "      <th></th>\n",
              "      <th></th>\n",
              "      <th></th>\n",
              "    </tr>\n",
              "  </thead>\n",
              "  <tbody>\n",
              "    <tr>\n",
              "      <th>2025-04-03</th>\n",
              "      <td>101.800003</td>\n",
              "      <td>105.629997</td>\n",
              "      <td>101.599998</td>\n",
              "      <td>103.510002</td>\n",
              "      <td>338769400</td>\n",
              "      <td>-0.073576</td>\n",
              "      <td>False</td>\n",
              "      <td>109.372857</td>\n",
              "      <td>113.731887</td>\n",
              "      <td>115.851872</td>\n",
              "      <td>111.606592</td>\n",
              "      <td>-4.245280</td>\n",
              "      <td>5.405667</td>\n",
              "      <td>124.543221</td>\n",
              "      <td>102.920553</td>\n",
              "      <td>104.607241</td>\n",
              "    </tr>\n",
              "    <tr>\n",
              "      <th>2025-04-04</th>\n",
              "      <td>94.309998</td>\n",
              "      <td>100.129997</td>\n",
              "      <td>92.110001</td>\n",
              "      <td>98.910004</td>\n",
              "      <td>532273800</td>\n",
              "      <td>0.035309</td>\n",
              "      <td>True</td>\n",
              "      <td>106.594285</td>\n",
              "      <td>112.958086</td>\n",
              "      <td>114.256178</td>\n",
              "      <td>108.945578</td>\n",
              "      <td>-5.310600</td>\n",
              "      <td>6.959510</td>\n",
              "      <td>126.877106</td>\n",
              "      <td>99.039065</td>\n",
              "      <td>97.742412</td>\n",
              "    </tr>\n",
              "    <tr>\n",
              "      <th>2025-04-07</th>\n",
              "      <td>97.639999</td>\n",
              "      <td>101.750000</td>\n",
              "      <td>86.620003</td>\n",
              "      <td>87.459999</td>\n",
              "      <td>611041300</td>\n",
              "      <td>-0.013724</td>\n",
              "      <td>False</td>\n",
              "      <td>104.624285</td>\n",
              "      <td>112.241912</td>\n",
              "      <td>113.025350</td>\n",
              "      <td>107.206258</td>\n",
              "      <td>-5.819092</td>\n",
              "      <td>7.660413</td>\n",
              "      <td>127.562738</td>\n",
              "      <td>96.921087</td>\n",
              "      <td>97.674137</td>\n",
              "    </tr>\n",
              "    <tr>\n",
              "      <th>2025-04-08</th>\n",
              "      <td>96.300003</td>\n",
              "      <td>105.849998</td>\n",
              "      <td>94.459999</td>\n",
              "      <td>103.809998</td>\n",
              "      <td>476243400</td>\n",
              "      <td>0.187227</td>\n",
              "      <td>True</td>\n",
              "      <td>102.714286</td>\n",
              "      <td>111.733809</td>\n",
              "      <td>111.786435</td>\n",
              "      <td>105.528373</td>\n",
              "      <td>-6.258063</td>\n",
              "      <td>8.447113</td>\n",
              "      <td>128.628036</td>\n",
              "      <td>94.839583</td>\n",
              "      <td>96.758048</td>\n",
              "    </tr>\n",
              "    <tr>\n",
              "      <th>2025-04-09</th>\n",
              "      <td>114.330002</td>\n",
              "      <td>115.099998</td>\n",
              "      <td>97.529999</td>\n",
              "      <td>98.889999</td>\n",
              "      <td>612918300</td>\n",
              "      <td>-0.059127</td>\n",
              "      <td>False</td>\n",
              "      <td>103.564286</td>\n",
              "      <td>111.999524</td>\n",
              "      <td>111.974848</td>\n",
              "      <td>106.882469</td>\n",
              "      <td>-5.092378</td>\n",
              "      <td>8.419066</td>\n",
              "      <td>128.837656</td>\n",
              "      <td>95.161392</td>\n",
              "      <td>108.472684</td>\n",
              "    </tr>\n",
              "  </tbody>\n",
              "</table>\n",
              "</div>"
            ],
            "text/plain": [
              "Price            Close        High         Low        Open     Volume  \\\n",
              "Ticker            NVDA        NVDA        NVDA        NVDA       NVDA   \n",
              "Date                                                                    \n",
              "2025-04-03  101.800003  105.629997  101.599998  103.510002  338769400   \n",
              "2025-04-04   94.309998  100.129997   92.110001   98.910004  532273800   \n",
              "2025-04-07   97.639999  101.750000   86.620003   87.459999  611041300   \n",
              "2025-04-08   96.300003  105.849998   94.459999  103.809998  476243400   \n",
              "2025-04-09  114.330002  115.099998   97.529999   98.889999  612918300   \n",
              "\n",
              "Price         change change_label         ma7        ma21       26ema  \\\n",
              "Ticker                                                                  \n",
              "Date                                                                    \n",
              "2025-04-03 -0.073576        False  109.372857  113.731887  115.851872   \n",
              "2025-04-04  0.035309         True  106.594285  112.958086  114.256178   \n",
              "2025-04-07 -0.013724        False  104.624285  112.241912  113.025350   \n",
              "2025-04-08  0.187227         True  102.714286  111.733809  111.786435   \n",
              "2025-04-09 -0.059127        False  103.564286  111.999524  111.974848   \n",
              "\n",
              "Price            12ema      MACD      20sd  upper_band  lower_band         ema  \n",
              "Ticker                                                                          \n",
              "Date                                                                            \n",
              "2025-04-03  111.606592 -4.245280  5.405667  124.543221  102.920553  104.607241  \n",
              "2025-04-04  108.945578 -5.310600  6.959510  126.877106   99.039065   97.742412  \n",
              "2025-04-07  107.206258 -5.819092  7.660413  127.562738   96.921087   97.674137  \n",
              "2025-04-08  105.528373 -6.258063  8.447113  128.628036   94.839583   96.758048  \n",
              "2025-04-09  106.882469 -5.092378  8.419066  128.837656   95.161392  108.472684  "
            ]
          },
          "execution_count": 98,
          "metadata": {},
          "output_type": "execute_result"
        }
      ],
      "source": [
        "price_processed.tail()"
      ]
    },
    {
      "cell_type": "code",
      "execution_count": 99,
      "metadata": {
        "colab": {
          "base_uri": "https://localhost:8080/"
        },
        "id": "W9O4ZSa0djOy",
        "outputId": "b910f36e-1bb4-4d8e-d7db-5d02e99228c1"
      },
      "outputs": [
        {
          "data": {
            "text/plain": [
              "(Close, NVDA)  (High, NVDA)  (Low, NVDA)  (Open, NVDA)  (Volume, NVDA)  (change, )  (change_label, )  (ma7, )  (ma21, )  (26ema, )  (12ema, )  (MACD, )  (20sd, )  (upper_band, )  (lower_band, )  (ema, )\n",
              "False          False         False        False         False           False       False             False    False     False      False      False     False     False           False           False      419\n",
              "Name: count, dtype: int64"
            ]
          },
          "execution_count": 99,
          "metadata": {},
          "output_type": "execute_result"
        }
      ],
      "source": [
        "price_processed = price_processed.dropna()\n",
        "price_processed.isnull().value_counts()"
      ]
    },
    {
      "cell_type": "code",
      "execution_count": 100,
      "metadata": {
        "colab": {
          "base_uri": "https://localhost:8080/",
          "height": 362
        },
        "id": "ytSx4T9xkIRU",
        "outputId": "7d1e9693-2a7e-4d8d-d072-1304cad41b21"
      },
      "outputs": [
        {
          "data": {
            "text/html": [
              "<div>\n",
              "<style scoped>\n",
              "    .dataframe tbody tr th:only-of-type {\n",
              "        vertical-align: middle;\n",
              "    }\n",
              "\n",
              "    .dataframe tbody tr th {\n",
              "        vertical-align: top;\n",
              "    }\n",
              "\n",
              "    .dataframe thead tr th {\n",
              "        text-align: left;\n",
              "    }\n",
              "\n",
              "    .dataframe thead tr:last-of-type th {\n",
              "        text-align: right;\n",
              "    }\n",
              "</style>\n",
              "<table border=\"1\" class=\"dataframe\">\n",
              "  <thead>\n",
              "    <tr>\n",
              "      <th>Price</th>\n",
              "      <th>Close</th>\n",
              "      <th>High</th>\n",
              "      <th>Low</th>\n",
              "      <th>Open</th>\n",
              "      <th>Volume</th>\n",
              "      <th>change</th>\n",
              "      <th>change_label</th>\n",
              "      <th>ma7</th>\n",
              "      <th>ma21</th>\n",
              "      <th>26ema</th>\n",
              "      <th>12ema</th>\n",
              "      <th>MACD</th>\n",
              "      <th>20sd</th>\n",
              "      <th>upper_band</th>\n",
              "      <th>lower_band</th>\n",
              "      <th>ema</th>\n",
              "    </tr>\n",
              "    <tr>\n",
              "      <th>Ticker</th>\n",
              "      <th>NVDA</th>\n",
              "      <th>NVDA</th>\n",
              "      <th>NVDA</th>\n",
              "      <th>NVDA</th>\n",
              "      <th>NVDA</th>\n",
              "      <th></th>\n",
              "      <th></th>\n",
              "      <th></th>\n",
              "      <th></th>\n",
              "      <th></th>\n",
              "      <th></th>\n",
              "      <th></th>\n",
              "      <th></th>\n",
              "      <th></th>\n",
              "      <th></th>\n",
              "      <th></th>\n",
              "    </tr>\n",
              "    <tr>\n",
              "      <th>Date</th>\n",
              "      <th></th>\n",
              "      <th></th>\n",
              "      <th></th>\n",
              "      <th></th>\n",
              "      <th></th>\n",
              "      <th></th>\n",
              "      <th></th>\n",
              "      <th></th>\n",
              "      <th></th>\n",
              "      <th></th>\n",
              "      <th></th>\n",
              "      <th></th>\n",
              "      <th></th>\n",
              "      <th></th>\n",
              "      <th></th>\n",
              "      <th></th>\n",
              "    </tr>\n",
              "  </thead>\n",
              "  <tbody>\n",
              "    <tr>\n",
              "      <th>2023-08-09</th>\n",
              "      <td>42.530781</td>\n",
              "      <td>44.287821</td>\n",
              "      <td>42.111008</td>\n",
              "      <td>44.249840</td>\n",
              "      <td>586449000</td>\n",
              "      <td>-0.003901</td>\n",
              "      <td>False</td>\n",
              "      <td>44.633635</td>\n",
              "      <td>45.400786</td>\n",
              "      <td>45.160389</td>\n",
              "      <td>44.836480</td>\n",
              "      <td>-0.323909</td>\n",
              "      <td>1.183600</td>\n",
              "      <td>47.767986</td>\n",
              "      <td>43.033587</td>\n",
              "      <td>43.290146</td>\n",
              "    </tr>\n",
              "    <tr>\n",
              "      <th>2023-08-10</th>\n",
              "      <td>42.364876</td>\n",
              "      <td>43.550230</td>\n",
              "      <td>41.812176</td>\n",
              "      <td>42.137000</td>\n",
              "      <td>492705000</td>\n",
              "      <td>-0.036166</td>\n",
              "      <td>False</td>\n",
              "      <td>44.045528</td>\n",
              "      <td>45.328731</td>\n",
              "      <td>44.906639</td>\n",
              "      <td>44.446346</td>\n",
              "      <td>-0.460294</td>\n",
              "      <td>1.365614</td>\n",
              "      <td>48.059959</td>\n",
              "      <td>42.597502</td>\n",
              "      <td>42.673299</td>\n",
              "    </tr>\n",
              "    <tr>\n",
              "      <th>2023-08-11</th>\n",
              "      <td>40.832706</td>\n",
              "      <td>41.995074</td>\n",
              "      <td>40.616825</td>\n",
              "      <td>41.728217</td>\n",
              "      <td>533085000</td>\n",
              "      <td>0.070934</td>\n",
              "      <td>True</td>\n",
              "      <td>43.558079</td>\n",
              "      <td>45.084959</td>\n",
              "      <td>44.542919</td>\n",
              "      <td>43.878217</td>\n",
              "      <td>-0.664702</td>\n",
              "      <td>1.690272</td>\n",
              "      <td>48.465504</td>\n",
              "      <td>41.704415</td>\n",
              "      <td>41.446237</td>\n",
              "    </tr>\n",
              "    <tr>\n",
              "      <th>2023-08-14</th>\n",
              "      <td>43.729122</td>\n",
              "      <td>43.776097</td>\n",
              "      <td>40.289003</td>\n",
              "      <td>40.463907</td>\n",
              "      <td>690286000</td>\n",
              "      <td>0.004274</td>\n",
              "      <td>True</td>\n",
              "      <td>43.449280</td>\n",
              "      <td>45.003289</td>\n",
              "      <td>44.471352</td>\n",
              "      <td>43.854856</td>\n",
              "      <td>-0.616496</td>\n",
              "      <td>1.683258</td>\n",
              "      <td>48.369806</td>\n",
              "      <td>41.636772</td>\n",
              "      <td>42.968161</td>\n",
              "    </tr>\n",
              "    <tr>\n",
              "      <th>2023-08-15</th>\n",
              "      <td>43.916023</td>\n",
              "      <td>45.243302</td>\n",
              "      <td>43.686149</td>\n",
              "      <td>44.535688</td>\n",
              "      <td>676512000</td>\n",
              "      <td>-0.010332</td>\n",
              "      <td>False</td>\n",
              "      <td>43.343624</td>\n",
              "      <td>44.883307</td>\n",
              "      <td>44.423183</td>\n",
              "      <td>43.864413</td>\n",
              "      <td>-0.558770</td>\n",
              "      <td>1.586142</td>\n",
              "      <td>48.055592</td>\n",
              "      <td>41.711022</td>\n",
              "      <td>43.600069</td>\n",
              "    </tr>\n",
              "  </tbody>\n",
              "</table>\n",
              "</div>"
            ],
            "text/plain": [
              "Price           Close       High        Low       Open     Volume    change  \\\n",
              "Ticker           NVDA       NVDA       NVDA       NVDA       NVDA             \n",
              "Date                                                                          \n",
              "2023-08-09  42.530781  44.287821  42.111008  44.249840  586449000 -0.003901   \n",
              "2023-08-10  42.364876  43.550230  41.812176  42.137000  492705000 -0.036166   \n",
              "2023-08-11  40.832706  41.995074  40.616825  41.728217  533085000  0.070934   \n",
              "2023-08-14  43.729122  43.776097  40.289003  40.463907  690286000  0.004274   \n",
              "2023-08-15  43.916023  45.243302  43.686149  44.535688  676512000 -0.010332   \n",
              "\n",
              "Price      change_label        ma7       ma21      26ema      12ema      MACD  \\\n",
              "Ticker                                                                          \n",
              "Date                                                                            \n",
              "2023-08-09        False  44.633635  45.400786  45.160389  44.836480 -0.323909   \n",
              "2023-08-10        False  44.045528  45.328731  44.906639  44.446346 -0.460294   \n",
              "2023-08-11         True  43.558079  45.084959  44.542919  43.878217 -0.664702   \n",
              "2023-08-14         True  43.449280  45.003289  44.471352  43.854856 -0.616496   \n",
              "2023-08-15        False  43.343624  44.883307  44.423183  43.864413 -0.558770   \n",
              "\n",
              "Price           20sd upper_band lower_band        ema  \n",
              "Ticker                                                 \n",
              "Date                                                   \n",
              "2023-08-09  1.183600  47.767986  43.033587  43.290146  \n",
              "2023-08-10  1.365614  48.059959  42.597502  42.673299  \n",
              "2023-08-11  1.690272  48.465504  41.704415  41.446237  \n",
              "2023-08-14  1.683258  48.369806  41.636772  42.968161  \n",
              "2023-08-15  1.586142  48.055592  41.711022  43.600069  "
            ]
          },
          "execution_count": 100,
          "metadata": {},
          "output_type": "execute_result"
        }
      ],
      "source": [
        "price_processed.head()\n",
        "#although I'm not very sure about how 26ema can be calculated when I don't have 26 days of data before this day ? \n",
        "#and ema, with this particular set up, seems a bit off? : https://stackoverflow.com/questions/37924377/does-pandas-calculate-ewm-wrong\n",
        "#the link above provides an alternate view, but I think with the amount of days I have, it shouldn't really matter that much. \n",
        "#Let's keep going w/o it first. "
      ]
    },
    {
      "cell_type": "code",
      "execution_count": 101,
      "metadata": {
        "id": "bqV8t9jfaX2Q"
      },
      "outputs": [],
      "source": [
        "#visualise the chart\n",
        "def plot_technical_indicators(dataset, last_days):\n",
        "    plt.figure(figsize=(16, 10), dpi=100)\n",
        "    shape_0 = dataset.shape[0]\n",
        "    xmacd_ = shape_0-last_days\n",
        "    \n",
        "    dataset = dataset.iloc[-last_days:, :]\n",
        "    x_ = range(3, dataset.shape[0])\n",
        "    x_ =list(dataset.index)\n",
        "    \n",
        "    # Plot first subplot\n",
        "    plt.subplot(2, 1, 1)\n",
        "    plt.plot(dataset['ma7'],label='MA 7', color='g',linestyle='--')\n",
        "    plt.plot(dataset['Close'],label='Closing Price', color='b')\n",
        "    plt.plot(dataset['ma21'],label='MA 21', color='r',linestyle='--')\n",
        "    plt.plot(dataset['upper_band'],label='Upper Band', color='c')\n",
        "    plt.plot(dataset['lower_band'],label='Lower Band', color='c')\n",
        "    plt.fill_between(x_, dataset['lower_band'], dataset['upper_band'], alpha=0.35)\n",
        "    plt.title('Technical indicators for NVIDIA stock - last {} days.'.format(last_days))\n",
        "    plt.ylabel('USD')\n",
        "    plt.legend()\n",
        "\n",
        "    # Plot second subplot\n",
        "    plt.subplot(2, 1, 2)\n",
        "    plt.title('MACD')\n",
        "    plt.plot(dataset['MACD'],label='MACD', linestyle='-.')\n",
        "    # plt.hlines(15, xmacd_, shape_0, colors='g', linestyles='--')\n",
        "    # plt.hlines(-15, xmacd_, shape_0, colors='g', linestyles='--')\n",
        "    #plt.plot(dataset['log_momentum'],label='Momentum', color='b',linestyle='-')\n",
        "\n",
        "    plt.legend()\n",
        "    plt.show()"
      ]
    },
    {
      "cell_type": "code",
      "execution_count": 102,
      "metadata": {
        "colab": {
          "base_uri": "https://localhost:8080/",
          "height": 838
        },
        "id": "WfwKoSota1bR",
        "outputId": "1ff8df18-0316-48ef-da6a-b262364ab381"
      },
      "outputs": [
        {
          "data": {
            "image/png": "[encoded data removed]",
            "text/plain": [
              "<Figure size 1600x1000 with 2 Axes>"
            ]
          },
          "metadata": {},
          "output_type": "display_data"
        }
      ],
      "source": [
        "plot_technical_indicators(price_processed, 400)"
      ]
    },
    {
      "cell_type": "code",
      "execution_count": 103,
      "metadata": {
        "colab": {
          "base_uri": "https://localhost:8080/",
          "height": 362
        },
        "id": "sPy9BNTbpP6X",
        "outputId": "236ca64f-cdf8-4f00-92ad-c15095b53d10"
      },
      "outputs": [
        {
          "data": {
            "text/html": [
              "<div>\n",
              "<style scoped>\n",
              "    .dataframe tbody tr th:only-of-type {\n",
              "        vertical-align: middle;\n",
              "    }\n",
              "\n",
              "    .dataframe tbody tr th {\n",
              "        vertical-align: top;\n",
              "    }\n",
              "\n",
              "    .dataframe thead tr th {\n",
              "        text-align: left;\n",
              "    }\n",
              "\n",
              "    .dataframe thead tr:last-of-type th {\n",
              "        text-align: right;\n",
              "    }\n",
              "</style>\n",
              "<table border=\"1\" class=\"dataframe\">\n",
              "  <thead>\n",
              "    <tr>\n",
              "      <th>Price</th>\n",
              "      <th>Close</th>\n",
              "      <th>High</th>\n",
              "      <th>Low</th>\n",
              "      <th>Open</th>\n",
              "      <th>Volume</th>\n",
              "      <th>change</th>\n",
              "      <th>change_label</th>\n",
              "      <th>ma7</th>\n",
              "      <th>ma21</th>\n",
              "      <th>26ema</th>\n",
              "      <th>12ema</th>\n",
              "      <th>MACD</th>\n",
              "      <th>20sd</th>\n",
              "      <th>upper_band</th>\n",
              "      <th>lower_band</th>\n",
              "      <th>ema</th>\n",
              "    </tr>\n",
              "    <tr>\n",
              "      <th>Ticker</th>\n",
              "      <th>NVDA</th>\n",
              "      <th>NVDA</th>\n",
              "      <th>NVDA</th>\n",
              "      <th>NVDA</th>\n",
              "      <th>NVDA</th>\n",
              "      <th></th>\n",
              "      <th></th>\n",
              "      <th></th>\n",
              "      <th></th>\n",
              "      <th></th>\n",
              "      <th></th>\n",
              "      <th></th>\n",
              "      <th></th>\n",
              "      <th></th>\n",
              "      <th></th>\n",
              "      <th></th>\n",
              "    </tr>\n",
              "    <tr>\n",
              "      <th>Date</th>\n",
              "      <th></th>\n",
              "      <th></th>\n",
              "      <th></th>\n",
              "      <th></th>\n",
              "      <th></th>\n",
              "      <th></th>\n",
              "      <th></th>\n",
              "      <th></th>\n",
              "      <th></th>\n",
              "      <th></th>\n",
              "      <th></th>\n",
              "      <th></th>\n",
              "      <th></th>\n",
              "      <th></th>\n",
              "      <th></th>\n",
              "      <th></th>\n",
              "    </tr>\n",
              "  </thead>\n",
              "  <tbody>\n",
              "    <tr>\n",
              "      <th>2023-08-09</th>\n",
              "      <td>42.530781</td>\n",
              "      <td>44.287821</td>\n",
              "      <td>42.111008</td>\n",
              "      <td>44.249840</td>\n",
              "      <td>586449000</td>\n",
              "      <td>-0.003901</td>\n",
              "      <td>False</td>\n",
              "      <td>44.633635</td>\n",
              "      <td>45.400786</td>\n",
              "      <td>45.160389</td>\n",
              "      <td>44.836480</td>\n",
              "      <td>-0.323909</td>\n",
              "      <td>1.183600</td>\n",
              "      <td>47.767986</td>\n",
              "      <td>43.033587</td>\n",
              "      <td>43.290146</td>\n",
              "    </tr>\n",
              "    <tr>\n",
              "      <th>2023-08-10</th>\n",
              "      <td>42.364876</td>\n",
              "      <td>43.550230</td>\n",
              "      <td>41.812176</td>\n",
              "      <td>42.137000</td>\n",
              "      <td>492705000</td>\n",
              "      <td>-0.036166</td>\n",
              "      <td>False</td>\n",
              "      <td>44.045528</td>\n",
              "      <td>45.328731</td>\n",
              "      <td>44.906639</td>\n",
              "      <td>44.446346</td>\n",
              "      <td>-0.460294</td>\n",
              "      <td>1.365614</td>\n",
              "      <td>48.059959</td>\n",
              "      <td>42.597502</td>\n",
              "      <td>42.673299</td>\n",
              "    </tr>\n",
              "    <tr>\n",
              "      <th>2023-08-11</th>\n",
              "      <td>40.832706</td>\n",
              "      <td>41.995074</td>\n",
              "      <td>40.616825</td>\n",
              "      <td>41.728217</td>\n",
              "      <td>533085000</td>\n",
              "      <td>0.070934</td>\n",
              "      <td>True</td>\n",
              "      <td>43.558079</td>\n",
              "      <td>45.084959</td>\n",
              "      <td>44.542919</td>\n",
              "      <td>43.878217</td>\n",
              "      <td>-0.664702</td>\n",
              "      <td>1.690272</td>\n",
              "      <td>48.465504</td>\n",
              "      <td>41.704415</td>\n",
              "      <td>41.446237</td>\n",
              "    </tr>\n",
              "    <tr>\n",
              "      <th>2023-08-14</th>\n",
              "      <td>43.729122</td>\n",
              "      <td>43.776097</td>\n",
              "      <td>40.289003</td>\n",
              "      <td>40.463907</td>\n",
              "      <td>690286000</td>\n",
              "      <td>0.004274</td>\n",
              "      <td>True</td>\n",
              "      <td>43.449280</td>\n",
              "      <td>45.003289</td>\n",
              "      <td>44.471352</td>\n",
              "      <td>43.854856</td>\n",
              "      <td>-0.616496</td>\n",
              "      <td>1.683258</td>\n",
              "      <td>48.369806</td>\n",
              "      <td>41.636772</td>\n",
              "      <td>42.968161</td>\n",
              "    </tr>\n",
              "    <tr>\n",
              "      <th>2023-08-15</th>\n",
              "      <td>43.916023</td>\n",
              "      <td>45.243302</td>\n",
              "      <td>43.686149</td>\n",
              "      <td>44.535688</td>\n",
              "      <td>676512000</td>\n",
              "      <td>-0.010332</td>\n",
              "      <td>False</td>\n",
              "      <td>43.343624</td>\n",
              "      <td>44.883307</td>\n",
              "      <td>44.423183</td>\n",
              "      <td>43.864413</td>\n",
              "      <td>-0.558770</td>\n",
              "      <td>1.586142</td>\n",
              "      <td>48.055592</td>\n",
              "      <td>41.711022</td>\n",
              "      <td>43.600069</td>\n",
              "    </tr>\n",
              "  </tbody>\n",
              "</table>\n",
              "</div>"
            ],
            "text/plain": [
              "Price           Close       High        Low       Open     Volume    change  \\\n",
              "Ticker           NVDA       NVDA       NVDA       NVDA       NVDA             \n",
              "Date                                                                          \n",
              "2023-08-09  42.530781  44.287821  42.111008  44.249840  586449000 -0.003901   \n",
              "2023-08-10  42.364876  43.550230  41.812176  42.137000  492705000 -0.036166   \n",
              "2023-08-11  40.832706  41.995074  40.616825  41.728217  533085000  0.070934   \n",
              "2023-08-14  43.729122  43.776097  40.289003  40.463907  690286000  0.004274   \n",
              "2023-08-15  43.916023  45.243302  43.686149  44.535688  676512000 -0.010332   \n",
              "\n",
              "Price      change_label        ma7       ma21      26ema      12ema      MACD  \\\n",
              "Ticker                                                                          \n",
              "Date                                                                            \n",
              "2023-08-09        False  44.633635  45.400786  45.160389  44.836480 -0.323909   \n",
              "2023-08-10        False  44.045528  45.328731  44.906639  44.446346 -0.460294   \n",
              "2023-08-11         True  43.558079  45.084959  44.542919  43.878217 -0.664702   \n",
              "2023-08-14         True  43.449280  45.003289  44.471352  43.854856 -0.616496   \n",
              "2023-08-15        False  43.343624  44.883307  44.423183  43.864413 -0.558770   \n",
              "\n",
              "Price           20sd upper_band lower_band        ema  \n",
              "Ticker                                                 \n",
              "Date                                                   \n",
              "2023-08-09  1.183600  47.767986  43.033587  43.290146  \n",
              "2023-08-10  1.365614  48.059959  42.597502  42.673299  \n",
              "2023-08-11  1.690272  48.465504  41.704415  41.446237  \n",
              "2023-08-14  1.683258  48.369806  41.636772  42.968161  \n",
              "2023-08-15  1.586142  48.055592  41.711022  43.600069  "
            ]
          },
          "execution_count": 103,
          "metadata": {},
          "output_type": "execute_result"
        }
      ],
      "source": [
        "price_processed.head()"
      ]
    },
    {
      "cell_type": "markdown",
      "metadata": {
        "id": "UZb0Sy17pQ6i"
      },
      "source": [
        "# Format data for model"
      ]
    },
    {
      "cell_type": "code",
      "execution_count": 104,
      "metadata": {
        "id": "h2zSOEWwCmOa"
      },
      "outputs": [],
      "source": [
        "#now perhaps convert them to a list, and then tensor, to proceed to process the price data? \n",
        "\n",
        "x_input=price_processed.drop(['change','change_label'],axis=1).values\n",
        "\n",
        "# scaler = MinMaxScaler()\n",
        "# x_input= scaler.fit_transform(x_input)\n",
        "x_input=x_input.tolist()\n",
        "\n",
        "x_label=price_processed['change_label'].values\n",
        "x_label=x_label.reshape(-1,).tolist()\n",
        "#try to encode label \n",
        "x_label = [1 if x else 0 for x in x_label]\n"
      ]
    },
    {
      "cell_type": "code",
      "execution_count": 105,
      "metadata": {
        "colab": {
          "base_uri": "https://localhost:8080/"
        },
        "id": "eEHBjRo3DKK9",
        "outputId": "6ff3e4f1-701a-40c5-8ca7-2eaa0a065e7b"
      },
      "outputs": [
        {
          "data": {
            "text/plain": [
              "[42.53078079223633,\n",
              " 44.28782094053219,\n",
              " 42.11100798733163,\n",
              " 44.249839662592294,\n",
              " 586449000.0,\n",
              " 44.633634839739116,\n",
              " 45.40078644525437,\n",
              " 45.16038919712435,\n",
              " 44.836480231115004,\n",
              " -0.3239089660093484,\n",
              " 1.183599788992241,\n",
              " 47.76798602323885,\n",
              " 43.03358686726989,\n",
              " 43.29014563821941]"
            ]
          },
          "execution_count": 105,
          "metadata": {},
          "output_type": "execute_result"
        }
      ],
      "source": [
        "x_input[0]"
      ]
    },
    {
      "cell_type": "code",
      "execution_count": 106,
      "metadata": {
        "id": "hGtR58hFcP9X"
      },
      "outputs": [],
      "source": [
        "#roe relative price \n",
        "# x_input = relative_price.drop(['change','change_label'],axis = 1).values\n",
        "\n",
        "\n",
        "# # x_input= min_max_scaler.fit_transform(x_input)\n",
        "# x_input=x_input.tolist()\n",
        "\n",
        "# x_label=relative_price['change_label'].values\n",
        "# x_label=x_label.reshape(-1,).tolist()\n",
        "# #try to encode label \n",
        "# x_label = [1 if x else 0 for x in x_label]"
      ]
    },
    {
      "cell_type": "code",
      "execution_count": 107,
      "metadata": {
        "colab": {
          "base_uri": "https://localhost:8080/"
        },
        "id": "2bpmrO8vI0Cy",
        "outputId": "f0755635-1fda-4d9f-bc65-d1e8335e787a"
      },
      "outputs": [
        {
          "data": {
            "text/plain": [
              "([42.53078079223633,\n",
              "  44.28782094053219,\n",
              "  42.11100798733163,\n",
              "  44.249839662592294,\n",
              "  586449000.0,\n",
              "  44.633634839739116,\n",
              "  45.40078644525437,\n",
              "  45.16038919712435,\n",
              "  44.836480231115004,\n",
              "  -0.3239089660093484,\n",
              "  1.183599788992241,\n",
              "  47.76798602323885,\n",
              "  43.03358686726989,\n",
              "  43.29014563821941],\n",
              " 0)"
            ]
          },
          "execution_count": 107,
          "metadata": {},
          "output_type": "execute_result"
        }
      ],
      "source": [
        "x_input[0],x_label[0]"
      ]
    },
    {
      "cell_type": "code",
      "execution_count": 108,
      "metadata": {
        "colab": {
          "base_uri": "https://localhost:8080/"
        },
        "id": "TWjvf91FJDYV",
        "outputId": "afb03548-8a37-4d47-c2aa-c5966e80fc3c"
      },
      "outputs": [
        {
          "name": "stdout",
          "output_type": "stream",
          "text": [
            "torch.Size([287, 10, 14])\n",
            "torch.Size([287])\n",
            "tensor([[ 4.2531e+01,  4.4288e+01,  4.2111e+01,  4.4250e+01,  5.8645e+08,\n",
            "          4.4634e+01,  4.5401e+01,  4.5160e+01,  4.4836e+01, -3.2391e-01,\n",
            "          1.1836e+00,  4.7768e+01,  4.3034e+01,  4.3290e+01],\n",
            "        [ 4.2365e+01,  4.3550e+01,  4.1812e+01,  4.2137e+01,  4.9270e+08,\n",
            "          4.4046e+01,  4.5329e+01,  4.4907e+01,  4.4446e+01, -4.6029e-01,\n",
            "          1.3656e+00,  4.8060e+01,  4.2598e+01,  4.2673e+01],\n",
            "        [ 4.0833e+01,  4.1995e+01,  4.0617e+01,  4.1728e+01,  5.3308e+08,\n",
            "          4.3558e+01,  4.5085e+01,  4.4543e+01,  4.3878e+01, -6.6470e-01,\n",
            "          1.6903e+00,  4.8466e+01,  4.1704e+01,  4.1446e+01],\n",
            "        [ 4.3729e+01,  4.3776e+01,  4.0289e+01,  4.0464e+01,  6.9029e+08,\n",
            "          4.3449e+01,  4.5003e+01,  4.4471e+01,  4.3855e+01, -6.1650e-01,\n",
            "          1.6833e+00,  4.8370e+01,  4.1637e+01,  4.2968e+01],\n",
            "        [ 4.3916e+01,  4.5243e+01,  4.3686e+01,  4.4536e+01,  6.7651e+08,\n",
            "          4.3344e+01,  4.4883e+01,  4.4423e+01,  4.3864e+01, -5.5877e-01,\n",
            "          1.5861e+00,  4.8056e+01,  4.1711e+01,  4.3600e+01],\n",
            "        [ 4.3462e+01,  4.4651e+01,  4.3382e+01,  4.4496e+01,  5.2745e+08,\n",
            "          4.3068e+01,  4.4693e+01,  4.4341e+01,  4.3802e+01, -5.3915e-01,\n",
            "          1.5139e+00,  4.7720e+01,  4.1665e+01,  4.3508e+01],\n",
            "        [ 4.3320e+01,  4.4038e+01,  4.2978e+01,  4.3946e+01,  4.5240e+08,\n",
            "          4.2879e+01,  4.4515e+01,  4.4254e+01,  4.3727e+01, -5.2762e-01,\n",
            "          1.5224e+00,  4.7560e+01,  4.1470e+01,  4.3383e+01],\n",
            "        [ 4.3275e+01,  4.3554e+01,  4.1637e+01,  4.2612e+01,  5.8377e+08,\n",
            "          4.2986e+01,  4.4409e+01,  4.4172e+01,  4.3657e+01, -5.1569e-01,\n",
            "          1.5453e+00,  4.7500e+01,  4.1319e+01,  4.3311e+01],\n",
            "        [ 4.6941e+01,  4.7039e+01,  4.4198e+01,  4.4470e+01,  6.9257e+08,\n",
            "          4.3640e+01,  4.4536e+01,  4.4402e+01,  4.4166e+01, -2.3612e-01,\n",
            "          1.6455e+00,  4.7827e+01,  4.1245e+01,  4.5731e+01],\n",
            "        [ 4.5643e+01,  4.8161e+01,  4.5308e+01,  4.8109e+01,  7.5529e+08,\n",
            "          4.4327e+01,  4.4586e+01,  4.4504e+01,  4.4395e+01, -1.0943e-01,\n",
            "          1.6451e+00,  4.7876e+01,  4.1296e+01,  4.5673e+01]])\n",
            "0\n",
            "torch.FloatTensor\n",
            "torch.FloatTensor\n",
            "torch.Size([123, 10, 14])\n",
            "torch.Size([123])\n"
          ]
        }
      ],
      "source": [
        "def process(data, window_size):\n",
        "    output = []\n",
        "    for i in range(window_size-1, len(data)):\n",
        "        raw_data = data[i-window_size+1:i+1]\n",
        "        output.append(raw_data)\n",
        "    return output\n",
        "\n",
        "window_size = 10\n",
        "x_processed = process(x_input, 10)\n",
        "split = round(len(x_processed)*0.7)\n",
        "x_train = x_processed[:split]\n",
        "x_eval = x_processed[split:]\n",
        "x_train = torch.tensor(x_train, dtype=torch.float)\n",
        "x_lab = torch.tensor(x_label[window_size-1:window_size-1+split],dtype=torch.float)\n",
        "\n",
        "\n",
        "x_eval = torch.tensor(x_eval, dtype=torch.float)\n",
        "x_lab_eval = torch.tensor(x_label[window_size-1+split:],dtype=torch.float)\n",
        "\n",
        "print(x_train.size())\n",
        "print(x_lab.size())\n",
        "print(x_train[0])\n",
        "print(x_label[0])\n",
        "print(x_train.type())\n",
        "print(x_lab.type())\n",
        "print(x_eval.size())\n",
        "print(x_lab_eval.size())"
      ]
    },
    {
      "cell_type": "markdown",
      "metadata": {
        "id": "xAFTd8rWLKHt"
      },
      "source": [
        "# Prepare the Model"
      ]
    },
    {
      "cell_type": "code",
      "execution_count": 109,
      "metadata": {
        "id": "DpREgH9sLMXl"
      },
      "outputs": [],
      "source": [
        "train_data = x_train\n",
        "train_label = x_lab\n",
        "\n",
        "eval_data = x_eval\n",
        "#print(test_data.size())\n",
        "eval_label = x_lab_eval\n",
        "#print(test_label)\n",
        "\n",
        "# batching  data\n",
        "batch_size = 64\n",
        "train_data = TensorDataset(train_data, train_label)\n",
        "train_loader = DataLoader(train_data, batch_size)\n",
        "train_batches = [batch for batch in train_loader]\n",
        "\n",
        "eval_data = TensorDataset(eval_data, eval_label)\n",
        "eval_loader = DataLoader(eval_data, batch_size) \n",
        "eval_batches = [batch for batch in eval_loader]"
      ]
    },
    {
      "cell_type": "code",
      "execution_count": 110,
      "metadata": {
        "id": "PSfqkcKTMgky"
      },
      "outputs": [],
      "source": [
        "class OurModel(nn.Module):\n",
        "    def __init__(self, input_size,  hidden_size, num_layers):\n",
        "        super(OurModel, self).__init__()\n",
        "        num_layers = num_layers\n",
        "        self.input_size = input_size\n",
        "        self.hidden_size = hidden_size\n",
        "        self.lstm = nn.LSTM(self.input_size, self.hidden_size, num_layers, batch_first=True, bidirectional=False, dropout=0.5)\n",
        "        self.ff = nn.Linear(self.hidden_size, 1)\n",
        "        self.dropout = nn.Dropout()\n",
        "\n",
        "        #need to change the loss function. \n",
        "    def forward(self, input):\n",
        "        output, (hn, cn) = self.lstm(input)\n",
        "        hn = self.dropout(hn[-1,:,:])\n",
        "        percent_change = self.ff(hn)\n",
        "        return percent_change\n"
      ]
    },
    {
      "cell_type": "code",
      "execution_count": 111,
      "metadata": {
        "id": "J2JZAdtvR69O"
      },
      "outputs": [],
      "source": [
        "#define model,\n",
        "\n",
        "model = OurModel(14, 512, 2)\n",
        "\n",
        "# for i in range(30):\n",
        "#     for step, batch in enumerate(train_batches):\n",
        "#         optimizer.step()\n",
        "#         model.zero_grad()\n",
        "        \n",
        "#         data, label = tuple(t for t in batch)\n",
        "#         model.train()\n",
        "#         loss = model(data, label)\n",
        "#         loss.backward()\n",
        "\n",
        "#     model.eval()\n",
        "#     output = evaluation(test_loader, model)\n",
        "#     print('prediction:', output)\n",
        "#     print(loss)"
      ]
    },
    {
      "cell_type": "code",
      "execution_count": 112,
      "metadata": {
        "id": "GRitBVF2tCVD"
      },
      "outputs": [],
      "source": [
        "#define optimizer, loss function\n",
        "params = model.parameters()\n",
        "optimizer = optim.Adam(params)\n",
        "criterion = nn.BCEWithLogitsLoss()"
      ]
    },
    {
      "cell_type": "code",
      "execution_count": 113,
      "metadata": {
        "colab": {
          "base_uri": "https://localhost:8080/"
        },
        "id": "HzMyaJ0bsksz",
        "outputId": "29d5ce97-019a-4d82-d7c7-2d98c33fce6b"
      },
      "outputs": [
        {
          "name": "stdout",
          "output_type": "stream",
          "text": [
            "cpu\n"
          ]
        }
      ],
      "source": [
        "#Move model to device\n",
        "device = torch.device('cuda' if torch.cuda.is_available() else 'cpu')\n",
        "model = model.to(device)\n",
        "criterion = criterion.to(device)\n",
        "\n",
        "print (device)"
      ]
    },
    {
      "cell_type": "code",
      "execution_count": 114,
      "metadata": {
        "colab": {
          "base_uri": "https://localhost:8080/"
        },
        "id": "6LQy1RUJr4Lm",
        "outputId": "4da863ea-ec82-45c6-dae2-cd199098f315"
      },
      "outputs": [
        {
          "name": "stdout",
          "output_type": "stream",
          "text": [
            "The model has 3,183,105 trainable parameters\n"
          ]
        }
      ],
      "source": [
        "#check number of parameters. \n",
        "def count_parameters(model):\n",
        "    return sum(p.numel() for p in model.parameters() if p.requires_grad)\n",
        "\n",
        "print(f'The model has {count_parameters(model):,} trainable parameters')"
      ]
    },
    {
      "cell_type": "code",
      "execution_count": 115,
      "metadata": {
        "id": "cNsy3zuvSFqo"
      },
      "outputs": [],
      "source": [
        "def binary_accuracy(preds, y):\n",
        "    \"\"\"\n",
        "    Returns accuracy per batch, i.e. if you get 8/10 right, this returns 0.8, NOT 8\n",
        "    \"\"\"\n",
        "\n",
        "    #round predictions to the closest integer\n",
        "    rounded_preds = torch.round(torch.sigmoid(preds))\n",
        "    correct = (rounded_preds == y).float() #convert into float for division \n",
        "    acc = correct.sum() / len(correct)\n",
        "    return acc"
      ]
    },
    {
      "cell_type": "code",
      "execution_count": 116,
      "metadata": {
        "id": "zi0CHIDNT-X3"
      },
      "outputs": [],
      "source": [
        "#here, let's try to define a function to get the confusion matrix stats\n",
        "\n"
      ]
    },
    {
      "cell_type": "code",
      "execution_count": 117,
      "metadata": {
        "id": "Ps2oeWfXmVF4"
      },
      "outputs": [],
      "source": [
        "def train(model, train_batches, optimizer, criterion):\n",
        "    \n",
        "    epoch_loss = 0\n",
        "    epoch_acc = 0\n",
        "    \n",
        "    model.train()\n",
        "\n",
        "    for step, batch in enumerate(train_batches):\n",
        "        \n",
        "        optimizer.zero_grad()\n",
        "        \n",
        "        data, label = tuple(t for t in batch)\n",
        "\n",
        "        data = data.to(device)\n",
        "        label = label.to(device)\n",
        "\n",
        "        predictions = model(data).squeeze(1)\n",
        "\n",
        "        loss = criterion(predictions, label)\n",
        "        #loss = f1_loss(predictions, label)\n",
        "        \n",
        "        acc = binary_accuracy(predictions, label)\n",
        "        \n",
        "        loss.backward()\n",
        "        \n",
        "        optimizer.step()\n",
        "        \n",
        "        epoch_loss += loss.item()\n",
        "        epoch_acc += acc.item()\n",
        "        \n",
        "    return epoch_loss / len(train_batches), epoch_acc / len(train_batches)"
      ]
    },
    {
      "cell_type": "code",
      "execution_count": 118,
      "metadata": {
        "id": "B-5ik76v7st1"
      },
      "outputs": [],
      "source": [
        "def evaluate(model, eval_batches, criterion):\n",
        "    \n",
        "    epoch_loss = 0\n",
        "    epoch_acc = 0\n",
        "    \n",
        "    model.eval()\n",
        "    \n",
        "    with torch.no_grad():\n",
        "    \n",
        "        for step, batch in enumerate(eval_batches):\n",
        "\n",
        "            data, label = tuple(t for t in batch)\n",
        "            data = data.to(device)\n",
        "            label = label.to(device)\n",
        "            \n",
        "            predictions = model(data).squeeze(1)\n",
        "            \n",
        "            loss = criterion(predictions, label)\n",
        "            \n",
        "            acc = binary_accuracy(predictions, label)\n",
        "\n",
        "            epoch_loss += loss.item()\n",
        "            epoch_acc += acc.item()\n",
        "        \n",
        "    return epoch_loss / len(eval_batches), epoch_acc / len(eval_batches)"
      ]
    },
    {
      "cell_type": "code",
      "execution_count": 119,
      "metadata": {
        "colab": {
          "base_uri": "https://localhost:8080/",
          "height": 613
        },
        "id": "OjDUGdyMmVvi",
        "outputId": "1a1f080c-c64c-4eb6-f0f3-a48026ac838a"
      },
      "outputs": [
        {
          "name": "stdout",
          "output_type": "stream",
          "text": [
            "Epoch: 01 | Epoch Time: 0m 0s\n",
            "\tTrain Loss: 0.700 | Train Acc: 53.49%\n",
            "\t Val. Loss: 0.696 |  Val. Acc: 49.58%\n",
            "Epoch: 02 | Epoch Time: 0m 0s\n",
            "\tTrain Loss: 0.688 | Train Acc: 52.55%\n",
            "\t Val. Loss: 0.713 |  Val. Acc: 50.42%\n",
            "Epoch: 03 | Epoch Time: 0m 0s\n",
            "\tTrain Loss: 0.689 | Train Acc: 57.55%\n",
            "\t Val. Loss: 0.710 |  Val. Acc: 50.42%\n",
            "Epoch: 04 | Epoch Time: 0m 0s\n",
            "\tTrain Loss: 0.680 | Train Acc: 57.24%\n",
            "\t Val. Loss: 0.697 |  Val. Acc: 50.42%\n",
            "Epoch: 05 | Epoch Time: 0m 0s\n",
            "\tTrain Loss: 0.687 | Train Acc: 54.43%\n",
            "\t Val. Loss: 0.700 |  Val. Acc: 50.42%\n",
            "Epoch: 06 | Epoch Time: 0m 0s\n",
            "\tTrain Loss: 0.689 | Train Acc: 57.86%\n",
            "\t Val. Loss: 0.708 |  Val. Acc: 50.42%\n",
            "Epoch: 07 | Epoch Time: 0m 0s\n",
            "\tTrain Loss: 0.679 | Train Acc: 57.24%\n",
            "\t Val. Loss: 0.703 |  Val. Acc: 50.42%\n",
            "Epoch: 08 | Epoch Time: 0m 0s\n",
            "\tTrain Loss: 0.680 | Train Acc: 57.55%\n",
            "\t Val. Loss: 0.698 |  Val. Acc: 50.42%\n",
            "Epoch: 09 | Epoch Time: 0m 0s\n",
            "\tTrain Loss: 0.686 | Train Acc: 56.28%\n",
            "\t Val. Loss: 0.701 |  Val. Acc: 50.42%\n",
            "Epoch: 10 | Epoch Time: 0m 0s\n",
            "\tTrain Loss: 0.689 | Train Acc: 57.55%\n",
            "\t Val. Loss: 0.705 |  Val. Acc: 50.42%\n"
          ]
        }
      ],
      "source": [
        "import time\n",
        "\n",
        "def epoch_time(start_time, end_time):\n",
        "    elapsed_time = end_time - start_time\n",
        "    elapsed_mins = int(elapsed_time / 60)\n",
        "    elapsed_secs = int(elapsed_time - (elapsed_mins * 60))\n",
        "    return elapsed_mins, elapsed_secs\n",
        "\n",
        "N_EPOCHS = 10\n",
        "\n",
        "best_valid_loss = float('inf')\n",
        "\n",
        "for epoch in range(N_EPOCHS):\n",
        "\n",
        "    start_time = time.time()\n",
        "    \n",
        "    train_loss, train_acc = train(model, train_batches, optimizer, criterion)\n",
        "    valid_loss, valid_acc = evaluate(model, eval_batches, criterion)\n",
        "    \n",
        "    end_time = time.time()\n",
        "\n",
        "    epoch_mins, epoch_secs = epoch_time(start_time, end_time)\n",
        "    \n",
        "    # if valid_loss < best_valid_loss:\n",
        "    #     best_valid_loss = valid_loss\n",
        "    #     torch.save(model.state_dict(), 'tut2-model.pt')\n",
        "    \n",
        "    print(f'Epoch: {epoch+1:02} | Epoch Time: {epoch_mins}m {epoch_secs}s')\n",
        "    print(f'\\tTrain Loss: {train_loss:.3f} | Train Acc: {train_acc*100:.2f}%')\n",
        "    print(f'\\t Val. Loss: {valid_loss:.3f} |  Val. Acc: {valid_acc*100:.2f}%')"
      ]
    },
    {
      "cell_type": "code",
      "execution_count": 120,
      "metadata": {
        "colab": {
          "base_uri": "https://localhost:8080/"
        },
        "id": "XIjV1DwHmhAp",
        "outputId": "753bff1f-a0e7-4056-926e-700268700404"
      },
      "outputs": [
        {
          "data": {
            "text/plain": [
              "5"
            ]
          },
          "execution_count": 120,
          "metadata": {},
          "output_type": "execute_result"
        }
      ],
      "source": [
        "len(train_batches)"
      ]
    },
    {
      "cell_type": "code",
      "execution_count": 121,
      "metadata": {
        "id": "B_Cy6CcDmhme"
      },
      "outputs": [],
      "source": [
        "predlist=torch.zeros(0,dtype=torch.long, device='cpu')\n",
        "lbllist=torch.zeros(0,dtype=torch.long, device='cpu')\n",
        "\n",
        "with torch.no_grad():\n",
        "  for step, batch in enumerate(eval_batches):\n",
        "    data, label = (t for t in batch)\n",
        "    data = data.to(device)\n",
        "    label = label.to(device)\n",
        "    predictions = model(data).squeeze(1)\n",
        "    predictions = torch.sigmoid(predictions)\n",
        "    predictions = torch.round(predictions)\n",
        "\n",
        "    predlist=torch.cat([predlist,predictions.view(-1).cpu()])\n",
        "    lbllist=torch.cat([lbllist,label.view(-1).cpu()])\n"
      ]
    },
    {
      "cell_type": "code",
      "execution_count": 122,
      "metadata": {
        "colab": {
          "base_uri": "https://localhost:8080/"
        },
        "id": "BK4i4cSNZ7W6",
        "outputId": "41e9559c-ee68-4b41-ec5e-96eb160f6637"
      },
      "outputs": [
        {
          "name": "stdout",
          "output_type": "stream",
          "text": [
            "[[ 0 61]\n",
            " [ 0 62]]\n"
          ]
        }
      ],
      "source": [
        "conf_mat=confusion_matrix(lbllist.numpy(), predlist.numpy())\n",
        "print(conf_mat)\n"
      ]
    },
    {
      "cell_type": "code",
      "execution_count": 123,
      "metadata": {
        "colab": {
          "base_uri": "https://localhost:8080/"
        },
        "id": "0tRocEZ4bQyt",
        "outputId": "9a03b640-4433-4924-c33e-99cb1c01685e"
      },
      "outputs": [
        {
          "data": {
            "text/plain": [
              "tensor([1., 1., 1., 1., 1., 1., 1., 1., 1., 1., 1., 1., 1., 1., 1., 1., 1., 1.,\n",
              "        1., 1., 1., 1., 1., 1., 1., 1., 1., 1., 1., 1., 1., 1., 1., 1., 1., 1.,\n",
              "        1., 1., 1., 1., 1., 1., 1., 1., 1., 1., 1., 1., 1., 1., 1., 1., 1., 1.,\n",
              "        1., 1., 1., 1., 1., 1., 1., 1., 1., 1., 1., 1., 1., 1., 1., 1., 1., 1.,\n",
              "        1., 1., 1., 1., 1., 1., 1., 1., 1., 1., 1., 1., 1., 1., 1., 1., 1., 1.,\n",
              "        1., 1., 1., 1., 1., 1., 1., 1., 1., 1., 1., 1., 1., 1., 1., 1., 1., 1.,\n",
              "        1., 1., 1., 1., 1., 1., 1., 1., 1., 1., 1., 1., 1., 1., 1.])"
            ]
          },
          "execution_count": 123,
          "metadata": {},
          "output_type": "execute_result"
        }
      ],
      "source": [
        "predlist"
      ]
    },
    {
      "cell_type": "code",
      "execution_count": 124,
      "metadata": {
        "colab": {
          "base_uri": "https://localhost:8080/"
        },
        "id": "xKwO7VUYbZPB",
        "outputId": "18583512-ae6e-4faa-821b-6eaaf264edf6"
      },
      "outputs": [
        {
          "data": {
            "text/plain": [
              "tensor([1., 0., 1., 1., 1., 1., 0., 0., 1., 1., 0., 1., 0., 0., 1., 1., 1., 1.,\n",
              "        1., 0., 0., 1., 0., 1., 0., 0., 1., 0., 1., 0., 0., 1., 0., 1., 1., 1.,\n",
              "        1., 0., 0., 0., 0., 1., 0., 0., 0., 0., 0., 1., 1., 1., 1., 0., 0., 1.,\n",
              "        0., 1., 1., 1., 0., 0., 0., 0., 0., 1., 0., 1., 1., 1., 1., 0., 0., 1.,\n",
              "        0., 1., 0., 0., 1., 1., 1., 1., 1., 0., 0., 1., 1., 1., 0., 1., 0., 0.,\n",
              "        0., 1., 0., 1., 0., 1., 1., 0., 1., 0., 1., 1., 0., 1., 0., 0., 1., 1.,\n",
              "        0., 1., 0., 0., 0., 0., 0., 1., 1., 0., 0., 1., 0., 1., 0.])"
            ]
          },
          "execution_count": 124,
          "metadata": {},
          "output_type": "execute_result"
        }
      ],
      "source": [
        "lbllist"
      ]
    },
    {
      "cell_type": "markdown",
      "metadata": {
        "id": "H1X3JqMDTBqW"
      },
      "source": [
        "# Trying out New Loss function for F1"
      ]
    },
    {
      "cell_type": "code",
      "execution_count": 125,
      "metadata": {
        "id": "4F7x-46ISfG0"
      },
      "outputs": [],
      "source": [
        "class OurModel2(nn.Module):\n",
        "    def __init__(self, input_size,  hidden_size, num_layers):\n",
        "        super(OurModel2, self).__init__()\n",
        "        num_layers = num_layers\n",
        "        self.input_size = input_size\n",
        "        self.hidden_size = hidden_size\n",
        "        self.lstm = nn.LSTM(self.input_size, self.hidden_size, num_layers, batch_first=True, bidirectional=False, dropout=0.5)\n",
        "        self.ff = nn.Linear(self.hidden_size, 256)\n",
        "        self.ff2 = nn.Linear(256,2)\n",
        "        self.dropout = nn.Dropout()\n",
        "\n",
        "        #need to change the loss function. \n",
        "    def forward(self, input):\n",
        "        output, (hn, cn) = self.lstm(input)\n",
        "        hn = self.dropout(hn[-1,:,:])\n",
        "        percent_change = self.ff(hn)\n",
        "        percent_change2 = self.ff2(percent_change)\n",
        "        return percent_change2\n",
        "\n",
        "model2 = OurModel2(14,512,2)"
      ]
    },
    {
      "cell_type": "code",
      "execution_count": 126,
      "metadata": {
        "colab": {
          "base_uri": "https://localhost:8080/"
        },
        "id": "JUyKbgXfS_br",
        "outputId": "39281332-bcc2-40dd-911a-5851b312e689"
      },
      "outputs": [
        {
          "name": "stdout",
          "output_type": "stream",
          "text": [
            "cpu\n"
          ]
        }
      ],
      "source": [
        "#define optimizer, loss function\n",
        "params2 = model2.parameters()\n",
        "optimizer2 = optim.Adam(params2)\n",
        "\n",
        "device = torch.device('cuda' if torch.cuda.is_available() else 'cpu')\n",
        "model2 = model2.to(device)\n",
        "\n",
        "print (device)"
      ]
    },
    {
      "cell_type": "code",
      "execution_count": 127,
      "metadata": {
        "id": "st_CSYZaRTgF"
      },
      "outputs": [],
      "source": [
        "class F1_Loss(nn.Module):\n",
        "    '''Calculate F1 score. Can work with gpu tensors\n",
        "    \n",
        "    The original implmentation is written by Michal Haltuf on Kaggle.\n",
        "    \n",
        "    Returns\n",
        "    -------\n",
        "    torch.Tensor\n",
        "        `ndim` == 1. epsilon <= val <= 1\n",
        "    \n",
        "    Reference\n",
        "    ---------\n",
        "    - https://www.kaggle.com/rejpalcz/best-loss-function-for-f1-score-metric\n",
        "    - https://scikit-learn.org/stable/modules/generated/sklearn.metrics.f1_score.html#sklearn.metrics.f1_score\n",
        "    - https://discuss.pytorch.org/t/calculating-precision-recall-and-f1-score-in-case-of-multi-label-classification/28265/6\n",
        "    - http://www.ryanzhang.info/python/writing-your-own-loss-function-module-for-pytorch/\n",
        "    '''\n",
        "    def __init__(self, epsilon=1e-7):\n",
        "        super().__init__()\n",
        "        self.epsilon = epsilon\n",
        "        \n",
        "    def forward(self, y_pred, y_true,):\n",
        "        assert y_pred.ndim == 2\n",
        "        assert y_true.ndim == 1\n",
        "        y_true = F.one_hot(y_true, 2).to(torch.float32)\n",
        "        y_pred = F.softmax(y_pred, dim=1)\n",
        "        \n",
        "        tp = (y_true * y_pred).sum(dim=0).to(torch.float32)\n",
        "        tn = ((1 - y_true) * (1 - y_pred)).sum(dim=0).to(torch.float32)\n",
        "        fp = ((1 - y_true) * y_pred).sum(dim=0).to(torch.float32)\n",
        "        fn = (y_true * (1 - y_pred)).sum(dim=0).to(torch.float32)\n",
        "\n",
        "        precision = tp / (tp + fp + self.epsilon)\n",
        "        recall = tp / (tp + fn + self.epsilon)\n",
        "\n",
        "        f1 = 2* (precision*recall) / (precision + recall + self.epsilon)\n",
        "        f1 = f1.clamp(min=self.epsilon, max=1-self.epsilon)\n",
        "        return 1 - f1.mean()\n",
        "\n",
        "f1_loss = F1_Loss().cuda()"
      ]
    },
    {
      "cell_type": "code",
      "execution_count": 128,
      "metadata": {
        "id": "nE8DSIgDZF_c"
      },
      "outputs": [],
      "source": [
        "def accuracy(preds, y):\n",
        "    \"\"\"\n",
        "    Returns accuracy per batch, i.e. if you get 8/10 right, this returns 0.8, NOT 8\n",
        "    \"\"\"\n",
        "\n",
        "    #round predictions to the closest integer\n",
        "    prediciton = F.softmax(preds, dim =1)\n",
        "    _, pred = torch.max(prediciton, 1)\n",
        "    correct = (pred == y).float() #convert into float for division \n",
        "    acc = correct.sum() / len(correct)\n",
        "    return acc"
      ]
    },
    {
      "cell_type": "code",
      "execution_count": 129,
      "metadata": {
        "id": "yqei424mRUV0"
      },
      "outputs": [],
      "source": [
        "def train(model, train_batches, optimizer, criterion):\n",
        "    \n",
        "    epoch_list=[]\n",
        "    epoch_loss = 0\n",
        "    epoch_acc = 0\n",
        "    \n",
        "    model.train()\n",
        "\n",
        "    for step, batch in enumerate(train_batches):\n",
        "        \n",
        "        optimizer.zero_grad()\n",
        "        \n",
        "        data, label = tuple(t for t in batch)\n",
        "\n",
        "        data = data.to(device)\n",
        "        label = label.to(device)\n",
        "\n",
        "        predictions = model(data)\n",
        "\n",
        "        loss = f1_loss(predictions, label.to(torch.int64))\n",
        "        \n",
        "        acc = accuracy(predictions, label)\n",
        "        \n",
        "        loss.backward()\n",
        "        \n",
        "        optimizer.step()\n",
        "        \n",
        "        epoch_list.append(loss.item())\n",
        "        epoch_loss += loss.item()\n",
        "        epoch_acc += acc.item()\n",
        "\n",
        "    return epoch_loss / len(train_batches), epoch_acc / len(train_batches), epoch_list"
      ]
    },
    {
      "cell_type": "code",
      "execution_count": 130,
      "metadata": {
        "id": "27jsByaTa8uy"
      },
      "outputs": [],
      "source": [
        "def evaluate(model, eval_batches, criterion):\n",
        "    \n",
        "    epoch_loss = 0\n",
        "    epoch_acc = 0\n",
        "    \n",
        "    model.eval()\n",
        "    \n",
        "    with torch.no_grad():\n",
        "    \n",
        "        for step, batch in enumerate(eval_batches):\n",
        "\n",
        "            data, label = tuple(t for t in batch)\n",
        "            data = data.to(device)\n",
        "            label = label.to(device)\n",
        "            \n",
        "            predictions = model(data)\n",
        "            \n",
        "            loss = f1_loss(predictions, label.to(torch.int64))\n",
        "           \n",
        "            acc = accuracy(predictions, label)\n",
        "\n",
        "            epoch_loss += loss.item()\n",
        "            epoch_acc += acc.item()\n",
        "        \n",
        "    return epoch_loss / len(eval_batches), epoch_acc / len(eval_batches)"
      ]
    },
    {
      "cell_type": "code",
      "execution_count": 131,
      "metadata": {
        "colab": {
          "base_uri": "https://localhost:8080/"
        },
        "id": "BBSjJMzVTxau",
        "outputId": "e482846f-bfe3-4809-961a-cf916889e3cf"
      },
      "outputs": [
        {
          "name": "stdout",
          "output_type": "stream",
          "text": [
            "Epoch: 01 | Epoch Time: 0m 0s\n",
            "\t Train. Loss: 0.505 |  Train. Acc: 48.35%\n",
            "\t Val. Loss: 0.502 |  Val. Acc: 49.58%\n",
            "Epoch: 02 | Epoch Time: 0m 0s\n",
            "\t Train. Loss: 0.511 |  Train. Acc: 50.36%\n",
            "\t Val. Loss: 0.505 |  Val. Acc: 50.42%\n",
            "Epoch: 03 | Epoch Time: 0m 0s\n",
            "\t Train. Loss: 0.497 |  Train. Acc: 57.63%\n",
            "\t Val. Loss: 0.500 |  Val. Acc: 50.42%\n",
            "Epoch: 04 | Epoch Time: 0m 0s\n",
            "\t Train. Loss: 0.495 |  Train. Acc: 60.05%\n",
            "\t Val. Loss: 0.505 |  Val. Acc: 50.42%\n",
            "Epoch: 05 | Epoch Time: 0m 0s\n",
            "\t Train. Loss: 0.498 |  Train. Acc: 54.74%\n",
            "\t Val. Loss: 0.500 |  Val. Acc: 50.42%\n",
            "Epoch: 06 | Epoch Time: 0m 0s\n",
            "\t Train. Loss: 0.511 |  Train. Acc: 50.68%\n",
            "\t Val. Loss: 0.507 |  Val. Acc: 50.42%\n",
            "Epoch: 07 | Epoch Time: 0m 0s\n",
            "\t Train. Loss: 0.499 |  Train. Acc: 53.45%\n",
            "\t Val. Loss: 0.500 |  Val. Acc: 49.58%\n",
            "Epoch: 08 | Epoch Time: 0m 0s\n",
            "\t Train. Loss: 0.512 |  Train. Acc: 48.80%\n",
            "\t Val. Loss: 0.506 |  Val. Acc: 50.42%\n",
            "Epoch: 09 | Epoch Time: 0m 0s\n",
            "\t Train. Loss: 0.508 |  Train. Acc: 51.91%\n",
            "\t Val. Loss: 0.506 |  Val. Acc: 50.42%\n",
            "Epoch: 10 | Epoch Time: 0m 0s\n",
            "\t Train. Loss: 0.501 |  Train. Acc: 52.18%\n",
            "\t Val. Loss: 0.505 |  Val. Acc: 50.42%\n"
          ]
        }
      ],
      "source": [
        "import time\n",
        "\n",
        "def epoch_time(start_time, end_time):\n",
        "    elapsed_time = end_time - start_time\n",
        "    elapsed_mins = int(elapsed_time / 60)\n",
        "    elapsed_secs = int(elapsed_time - (elapsed_mins * 60))\n",
        "    return elapsed_mins, elapsed_secs\n",
        "\n",
        "N_EPOCHS = 10\n",
        "\n",
        "best_valid_loss = float('inf')\n",
        "\n",
        "for epoch in range(N_EPOCHS):\n",
        "\n",
        "    start_time = time.time()\n",
        "    \n",
        "    train_loss, train_acc, train_loss_list = train(model2, train_batches, optimizer2, criterion)\n",
        "    valid_loss, valid_acc = evaluate(model2, eval_batches, criterion)\n",
        "    \n",
        "    end_time = time.time()\n",
        "\n",
        "    epoch_mins, epoch_secs = epoch_time(start_time, end_time)\n",
        "    \n",
        "    # if valid_loss < best_valid_loss:\n",
        "    #     best_valid_loss = valid_loss\n",
        "    #     torch.save(model.state_dict(), 'tut2-model.pt')\n",
        "    \n",
        "    print(f'Epoch: {epoch+1:02} | Epoch Time: {epoch_mins}m {epoch_secs}s')\n",
        "    print(f'\\t Train. Loss: {train_loss:.3f} |  Train. Acc: {train_acc*100:.2f}%')\n",
        "    print(f'\\t Val. Loss: {valid_loss:.3f} |  Val. Acc: {valid_acc*100:.2f}%')"
      ]
    },
    {
      "cell_type": "code",
      "execution_count": 132,
      "metadata": {
        "id": "iUtzrPA4Vl-B"
      },
      "outputs": [
        {
          "data": {
            "text/plain": [
              "[0.4835711717605591,\n",
              " 0.5045706033706665,\n",
              " 0.4983976483345032,\n",
              " 0.5074238181114197,\n",
              " 0.5101574063301086]"
            ]
          },
          "execution_count": 132,
          "metadata": {},
          "output_type": "execute_result"
        }
      ],
      "source": [
        "train_loss_list"
      ]
    },
    {
      "cell_type": "code",
      "execution_count": 133,
      "metadata": {
        "colab": {
          "base_uri": "https://localhost:8080/"
        },
        "id": "Z_M-m1zwh0ek",
        "outputId": "e16795d5-9bfe-4933-cd2d-f44f17aa2828"
      },
      "outputs": [
        {
          "data": {
            "text/plain": [
              "<generator object Module.parameters at 0x30942e890>"
            ]
          },
          "execution_count": 133,
          "metadata": {},
          "output_type": "execute_result"
        }
      ],
      "source": [
        "model2.parameters()"
      ]
    },
    {
      "cell_type": "code",
      "execution_count": 134,
      "metadata": {
        "id": "878dJJdlivwB"
      },
      "outputs": [
        {
          "name": "stdout",
          "output_type": "stream",
          "text": [
            "OurModel2(\n",
            "  (lstm): LSTM(14, 512, num_layers=2, batch_first=True, dropout=0.5)\n",
            "  (ff): Linear(in_features=512, out_features=256, bias=True)\n",
            "  (ff2): Linear(in_features=256, out_features=2, bias=True)\n",
            "  (dropout): Dropout(p=0.5, inplace=False)\n",
            ")\n"
          ]
        }
      ],
      "source": [
        "print (model2)"
      ]
    },
    {
      "cell_type": "code",
      "execution_count": 135,
      "metadata": {
        "id": "AbDhKVAPiy83"
      },
      "outputs": [
        {
          "data": {
            "text/plain": [
              "[Parameter containing:\n",
              " tensor([[ 0.0202, -0.0107, -0.0210,  ...,  0.0046,  0.0395,  0.0147],\n",
              "         [-0.0345, -0.0182, -0.0072,  ...,  0.0012,  0.0439,  0.0373],\n",
              "         [ 0.0046, -0.0385, -0.0153,  ..., -0.0410, -0.0024, -0.0411],\n",
              "         ...,\n",
              "         [-0.0251, -0.0136, -0.0148,  ..., -0.0234,  0.0394, -0.0048],\n",
              "         [ 0.0340,  0.0056,  0.0125,  ...,  0.0202,  0.0437, -0.0103],\n",
              "         [ 0.0275, -0.0120, -0.0133,  ..., -0.0041,  0.0411, -0.0041]],\n",
              "        requires_grad=True),\n",
              " Parameter containing:\n",
              " tensor([[-0.0287, -0.0172,  0.0282,  ...,  0.0272, -0.0398, -0.0279],\n",
              "         [ 0.0091, -0.0361, -0.0294,  ..., -0.0140,  0.0028, -0.0326],\n",
              "         [ 0.0079, -0.0002,  0.0095,  ..., -0.0137,  0.0169,  0.0144],\n",
              "         ...,\n",
              "         [-0.0215,  0.0407,  0.0338,  ...,  0.0136, -0.0300,  0.0420],\n",
              "         [-0.0172, -0.0289, -0.0217,  ..., -0.0055, -0.0273,  0.0365],\n",
              "         [-0.0424, -0.0195, -0.0410,  ...,  0.0236,  0.0387,  0.0231]],\n",
              "        requires_grad=True),\n",
              " Parameter containing:\n",
              " tensor([ 0.0022, -0.0350, -0.0159,  ..., -0.0228,  0.0251,  0.0374],\n",
              "        requires_grad=True),\n",
              " Parameter containing:\n",
              " tensor([ 0.0358,  0.0102, -0.0114,  ...,  0.0129,  0.0351, -0.0378],\n",
              "        requires_grad=True),\n",
              " Parameter containing:\n",
              " tensor([[ 0.0008,  0.0331, -0.0054,  ...,  0.0144,  0.0094,  0.0048],\n",
              "         [-0.0434,  0.0121,  0.0338,  ...,  0.0166, -0.0196, -0.0080],\n",
              "         [ 0.0108,  0.0359, -0.0164,  ..., -0.0007, -0.0128,  0.0180],\n",
              "         ...,\n",
              "         [-0.0101,  0.0091, -0.0249,  ...,  0.0156,  0.0354,  0.0110],\n",
              "         [-0.0092, -0.0113,  0.0372,  ...,  0.0188,  0.0292,  0.0219],\n",
              "         [-0.0272, -0.0085, -0.0101,  ..., -0.0012,  0.0048, -0.0046]],\n",
              "        requires_grad=True),\n",
              " Parameter containing:\n",
              " tensor([[ 0.0317,  0.0119, -0.0141,  ...,  0.0192,  0.0312, -0.0273],\n",
              "         [-0.0240, -0.0435, -0.0216,  ..., -0.0004, -0.0270, -0.0008],\n",
              "         [-0.0261,  0.0076,  0.0408,  ..., -0.0168,  0.0017, -0.0288],\n",
              "         ...,\n",
              "         [ 0.0165,  0.0287,  0.0263,  ...,  0.0179,  0.0278,  0.0440],\n",
              "         [-0.0296, -0.0238,  0.0399,  ..., -0.0324, -0.0413, -0.0140],\n",
              "         [ 0.0227, -0.0009,  0.0247,  ..., -0.0321, -0.0526, -0.0277]],\n",
              "        requires_grad=True),\n",
              " Parameter containing:\n",
              " tensor([ 0.0155,  0.0144,  0.0342,  ...,  0.0294, -0.0386, -0.0526],\n",
              "        requires_grad=True),\n",
              " Parameter containing:\n",
              " tensor([-0.0301, -0.0305, -0.0487,  ..., -0.0081, -0.0420, -0.0269],\n",
              "        requires_grad=True),\n",
              " Parameter containing:\n",
              " tensor([[ 0.0319, -0.0055,  0.0309,  ..., -0.0168, -0.0134, -0.0094],\n",
              "         [ 0.0256,  0.0227,  0.0095,  ...,  0.0224, -0.0290,  0.0262],\n",
              "         [-0.0304, -0.0431, -0.0035,  ..., -0.0067,  0.0277,  0.0345],\n",
              "         ...,\n",
              "         [ 0.0061, -0.0409,  0.0165,  ...,  0.0190,  0.0300,  0.0097],\n",
              "         [ 0.0095, -0.0347, -0.0500,  ..., -0.0104, -0.0217, -0.0041],\n",
              "         [-0.0039,  0.0428, -0.0179,  ...,  0.0154, -0.0326,  0.0268]],\n",
              "        requires_grad=True),\n",
              " Parameter containing:\n",
              " tensor([-1.2163e-03,  1.8794e-02,  1.1669e-02, -9.1190e-03,  2.0463e-02,\n",
              "         -1.7121e-02,  1.9805e-02,  6.6771e-03, -4.1229e-03,  3.3067e-02,\n",
              "          3.2998e-02, -3.3626e-02, -4.1095e-02, -2.2518e-02, -4.4077e-02,\n",
              "          2.8626e-02, -2.9186e-03, -1.3129e-02,  3.1437e-02, -4.8007e-03,\n",
              "         -1.5320e-02,  1.0576e-02,  3.4367e-02,  1.2526e-02, -6.8227e-04,\n",
              "          4.3490e-02, -4.0934e-02, -5.4469e-03,  1.8784e-02,  9.4558e-03,\n",
              "          2.3752e-02,  1.5294e-02, -1.2337e-02,  3.3541e-02, -2.7868e-02,\n",
              "         -3.7999e-02,  1.7664e-02, -4.4452e-03,  2.3749e-02,  5.8072e-03,\n",
              "         -3.4265e-02, -1.4419e-03,  3.7034e-02,  3.3129e-02, -3.4275e-02,\n",
              "         -3.5707e-02, -1.6591e-02,  8.3868e-03,  3.7031e-02, -3.8468e-02,\n",
              "          2.2621e-02, -2.6984e-02, -3.2849e-02,  3.7378e-02,  2.1831e-02,\n",
              "          8.7231e-03, -1.2210e-02, -8.8784e-03,  2.1051e-02,  7.9038e-03,\n",
              "          1.5551e-02, -2.0433e-02,  2.2315e-02, -1.6971e-02,  1.5945e-02,\n",
              "          3.3533e-02,  2.9604e-02, -1.4779e-03, -1.1515e-02, -2.8930e-03,\n",
              "         -3.5994e-02,  3.7098e-02, -3.1954e-02,  1.9003e-02,  2.4812e-02,\n",
              "          2.4241e-05,  2.9357e-02, -1.2923e-02,  4.1774e-02,  2.6850e-02,\n",
              "          1.8609e-02,  3.0473e-02, -7.1270e-03,  1.6109e-03,  2.6229e-02,\n",
              "          2.5497e-02,  4.5011e-02,  3.8593e-02,  1.5537e-02, -5.2133e-03,\n",
              "          1.7481e-04, -3.0358e-02, -3.1613e-02,  3.2398e-03,  2.7073e-02,\n",
              "          8.1193e-03,  1.1653e-03,  7.3262e-04, -3.8168e-02,  2.1453e-02,\n",
              "          4.2119e-02,  1.4551e-02, -2.5103e-02, -6.6809e-03, -1.8022e-02,\n",
              "          1.0193e-02,  5.8269e-03, -8.4099e-03,  4.1229e-02, -3.6033e-02,\n",
              "          1.8800e-03,  2.7389e-02,  1.1928e-02, -2.4480e-02,  9.9798e-03,\n",
              "          1.2687e-02,  8.8881e-03,  8.5508e-03,  4.0884e-02, -2.2422e-02,\n",
              "         -1.0967e-02, -6.0856e-03, -1.8631e-02,  9.4148e-03, -1.9423e-02,\n",
              "         -4.5501e-02,  1.0862e-02,  4.0576e-02,  1.4211e-02,  2.8278e-02,\n",
              "          1.1439e-02,  8.5026e-03, -5.1090e-04, -3.7879e-02,  3.7311e-02,\n",
              "         -7.9883e-03,  2.9022e-03,  2.2885e-02,  1.7954e-02,  1.0609e-03,\n",
              "          3.2365e-02, -1.8958e-02, -5.9991e-03, -2.1882e-02,  2.3367e-02,\n",
              "         -4.3783e-02, -3.0609e-02,  4.4963e-02,  3.3428e-02,  2.1219e-02,\n",
              "          2.6558e-02, -3.9832e-02,  1.7280e-02,  4.2856e-02, -8.9334e-03,\n",
              "         -4.4525e-02,  2.5224e-02,  3.5739e-02, -2.4872e-04, -2.7011e-02,\n",
              "         -1.3091e-02, -4.2910e-02,  1.1575e-02, -4.0436e-02, -1.7187e-02,\n",
              "         -7.9546e-04, -5.1732e-03,  3.8413e-02, -6.6087e-03, -4.3997e-02,\n",
              "         -9.0232e-03, -3.2328e-02,  8.6019e-03, -1.1104e-02, -2.6836e-02,\n",
              "         -3.3799e-02,  3.8533e-02, -4.0580e-02, -1.3247e-03,  2.6774e-03,\n",
              "         -3.6352e-02,  2.6915e-02, -1.4289e-02, -3.8407e-02,  7.2682e-03,\n",
              "          4.4134e-03, -1.5367e-02, -6.0683e-04,  2.7936e-02,  2.5147e-02,\n",
              "          2.9892e-02, -8.9378e-03,  2.6876e-02,  2.5805e-02,  2.6845e-02,\n",
              "          1.2781e-02, -3.7975e-02, -2.7729e-02, -4.3525e-02, -5.0167e-03,\n",
              "          2.3006e-02,  3.5367e-03, -1.4756e-02, -1.7762e-03,  4.4952e-02,\n",
              "         -3.3906e-03,  2.0885e-02, -1.1397e-02, -2.0621e-02,  3.1629e-02,\n",
              "         -3.5641e-04, -4.2622e-03, -3.7596e-02,  9.7742e-03,  1.1783e-02,\n",
              "         -2.6548e-02, -9.1262e-03, -2.2483e-02,  1.0881e-02, -9.6191e-03,\n",
              "         -6.5056e-03, -3.4661e-02,  2.4842e-02,  2.4535e-02, -2.2993e-02,\n",
              "          2.0799e-02, -8.0824e-03,  2.1307e-02,  1.9365e-02,  2.2761e-02,\n",
              "         -3.3702e-02,  7.7539e-03,  2.8509e-02,  3.1227e-02, -1.0770e-02,\n",
              "          5.3885e-03,  2.7219e-03,  3.2858e-02,  3.6410e-02,  4.4279e-02,\n",
              "         -2.3160e-02, -3.9815e-02,  6.9236e-03,  1.9840e-02, -3.6025e-03,\n",
              "          3.4616e-02, -1.7238e-02, -4.2470e-02, -2.1794e-03, -1.3537e-02,\n",
              "          4.4236e-02,  1.8939e-02, -2.8125e-02,  1.4664e-02, -1.5305e-02,\n",
              "          8.7622e-03], requires_grad=True),\n",
              " Parameter containing:\n",
              " tensor([[-0.0288,  0.0408,  0.0485,  0.0398,  0.0355,  0.0036, -0.0419, -0.0254,\n",
              "           0.0446, -0.0154, -0.0200,  0.0435,  0.0028,  0.0526,  0.0380,  0.0248,\n",
              "          -0.0578, -0.0379,  0.0012,  0.0520,  0.0405,  0.0093,  0.0166, -0.0468,\n",
              "          -0.0337, -0.0272,  0.0058,  0.0383,  0.0471,  0.0235, -0.0319, -0.0159,\n",
              "           0.0376, -0.0624,  0.0451,  0.0295,  0.0162,  0.0251, -0.0216, -0.0280,\n",
              "           0.0361,  0.0018,  0.0134, -0.0623,  0.0080, -0.0524, -0.0467, -0.0378,\n",
              "          -0.0049, -0.0437, -0.0506,  0.0311,  0.0482, -0.0550,  0.0015, -0.0304,\n",
              "           0.0431,  0.0454, -0.0132, -0.0593,  0.0190,  0.0458,  0.0273,  0.0243,\n",
              "           0.0468,  0.0288,  0.0108, -0.0535, -0.0345,  0.0152, -0.0017,  0.0426,\n",
              "          -0.0563,  0.0265,  0.0275, -0.0037,  0.0286,  0.0238,  0.0167, -0.0115,\n",
              "           0.0114, -0.0369, -0.0053,  0.0070, -0.0328,  0.0278, -0.0361, -0.0147,\n",
              "          -0.0305, -0.0072,  0.0249, -0.0187,  0.0493,  0.0470, -0.0553,  0.0225,\n",
              "          -0.0057, -0.0535, -0.0510, -0.0045,  0.0250,  0.0521,  0.0484,  0.0649,\n",
              "           0.0281, -0.0051, -0.0330, -0.0131, -0.0597, -0.0333,  0.0321,  0.0558,\n",
              "          -0.0330, -0.0128,  0.0331, -0.0385,  0.0377,  0.0152, -0.0107,  0.0276,\n",
              "          -0.0471,  0.0120, -0.0396, -0.0129,  0.0389,  0.0516,  0.0477, -0.0372,\n",
              "           0.0365, -0.0222,  0.0394,  0.0270, -0.0251,  0.0054, -0.0501, -0.0248,\n",
              "           0.0049, -0.0321,  0.0491,  0.0412,  0.0368, -0.0035,  0.0257,  0.0299,\n",
              "          -0.0556,  0.0365,  0.0379, -0.0355,  0.0312, -0.0279,  0.0153, -0.0073,\n",
              "           0.0161, -0.0458,  0.0515,  0.0190, -0.0579, -0.0033, -0.0065,  0.0600,\n",
              "           0.0470,  0.0195, -0.0390, -0.0233, -0.0249, -0.0070, -0.0589,  0.0461,\n",
              "           0.0561, -0.0200, -0.0547, -0.0423, -0.0154, -0.0058,  0.0296,  0.0438,\n",
              "          -0.0487, -0.0145, -0.0218, -0.0341, -0.0371,  0.0268, -0.0232,  0.0119,\n",
              "          -0.0199, -0.0044, -0.0270, -0.0054,  0.0038,  0.0681, -0.0290,  0.0472,\n",
              "           0.0028,  0.0021,  0.0045, -0.0193, -0.0037, -0.0206,  0.0137,  0.0108,\n",
              "           0.0365, -0.0057,  0.0342,  0.0065, -0.0115, -0.0030,  0.0568, -0.0316,\n",
              "           0.0462,  0.0528, -0.0181, -0.0459, -0.0235,  0.0273, -0.0108, -0.0101,\n",
              "           0.0473,  0.0608, -0.0035,  0.0260, -0.0087, -0.0456, -0.0346, -0.0079,\n",
              "          -0.0485, -0.0334, -0.0293, -0.0466,  0.0325, -0.0125,  0.0150,  0.0108,\n",
              "           0.0396,  0.0159, -0.0310,  0.0524, -0.0509,  0.0129, -0.0469, -0.0192,\n",
              "          -0.0006, -0.0210, -0.0093, -0.0490,  0.0083, -0.0584, -0.0430,  0.0084,\n",
              "          -0.0095, -0.0113,  0.0083, -0.0259, -0.0520,  0.0077,  0.0435, -0.0056],\n",
              "         [-0.0186,  0.0306, -0.0066,  0.0043,  0.0030, -0.0382, -0.0462, -0.0191,\n",
              "          -0.0649, -0.0130, -0.0273,  0.0357, -0.0136,  0.0240,  0.0024, -0.0446,\n",
              "          -0.0161,  0.0463, -0.0396, -0.0562,  0.0526, -0.0605, -0.0249,  0.0182,\n",
              "          -0.0205,  0.0519, -0.0565,  0.0429,  0.0475,  0.0358, -0.0225,  0.0339,\n",
              "           0.0420,  0.0065,  0.0592, -0.0078, -0.0140,  0.0497, -0.0336, -0.0258,\n",
              "          -0.0541,  0.0265, -0.0039, -0.0591,  0.0162, -0.0511, -0.0041, -0.0124,\n",
              "          -0.0065,  0.0183, -0.0531,  0.0285,  0.0199, -0.0426,  0.0213,  0.0131,\n",
              "          -0.0407,  0.0478, -0.0197, -0.0070,  0.0350,  0.0283,  0.0284,  0.0429,\n",
              "           0.0010, -0.0122,  0.0230, -0.0519,  0.0312,  0.0291, -0.0382,  0.0339,\n",
              "          -0.0493, -0.0506,  0.0557,  0.0368, -0.0533,  0.0092,  0.0004, -0.0548,\n",
              "           0.0104, -0.0481,  0.0251, -0.0169, -0.0315, -0.0539,  0.0493,  0.0380,\n",
              "          -0.0607, -0.0518,  0.0221, -0.0250, -0.0140,  0.0043, -0.0404,  0.0447,\n",
              "          -0.0032, -0.0095,  0.0174,  0.0007,  0.0387, -0.0276, -0.0639, -0.0363,\n",
              "           0.0207, -0.0224,  0.0382, -0.0234,  0.0014,  0.0584, -0.0335, -0.0063,\n",
              "          -0.0636,  0.0217,  0.0200,  0.0453, -0.0291,  0.0086,  0.0411,  0.0219,\n",
              "          -0.0219,  0.0135,  0.0548,  0.0184,  0.0345, -0.0034,  0.0568,  0.0009,\n",
              "           0.0304,  0.0434,  0.0194,  0.0302, -0.0372,  0.0038,  0.0307, -0.0049,\n",
              "           0.0068, -0.0043, -0.0052, -0.0343, -0.0172, -0.0323,  0.0140, -0.0377,\n",
              "          -0.0475, -0.0323,  0.0108, -0.0280, -0.0288, -0.0556, -0.0336,  0.0117,\n",
              "          -0.0340,  0.0427, -0.0496, -0.0019,  0.0310,  0.0229, -0.0009, -0.0109,\n",
              "          -0.0251,  0.0163,  0.0507, -0.0129, -0.0193,  0.0006, -0.0309,  0.0590,\n",
              "           0.0534, -0.0306,  0.0503, -0.0159, -0.0368, -0.0166,  0.0226,  0.0333,\n",
              "          -0.0414,  0.0303, -0.0437, -0.0414,  0.0478,  0.0189,  0.0457, -0.0614,\n",
              "          -0.0536, -0.0429,  0.0338,  0.0290,  0.0481,  0.0048, -0.0036, -0.0059,\n",
              "          -0.0577,  0.0562, -0.0120, -0.0519, -0.0328, -0.0559, -0.0251,  0.0039,\n",
              "          -0.0410,  0.0301,  0.0380, -0.0282,  0.0029, -0.0030,  0.0010, -0.0415,\n",
              "           0.0273,  0.0224,  0.0159,  0.0149, -0.0269,  0.0123,  0.0581, -0.0005,\n",
              "          -0.0503, -0.0548,  0.0401,  0.0376, -0.0337, -0.0363,  0.0324,  0.0252,\n",
              "          -0.0306, -0.0102, -0.0384,  0.0003, -0.0048,  0.0109, -0.0333, -0.0002,\n",
              "           0.0445, -0.0487,  0.0179,  0.0622,  0.0226,  0.0161, -0.0571, -0.0072,\n",
              "           0.0030, -0.0274,  0.0186,  0.0097,  0.0141, -0.0493, -0.0422, -0.0352,\n",
              "           0.0269, -0.0493,  0.0331, -0.0445,  0.0140,  0.0192,  0.0555,  0.0184]],\n",
              "        requires_grad=True),\n",
              " Parameter containing:\n",
              " tensor([-0.0325, -0.0306], requires_grad=True)]"
            ]
          },
          "execution_count": 135,
          "metadata": {},
          "output_type": "execute_result"
        }
      ],
      "source": [
        "list(model2.parameters())"
      ]
    },
    {
      "cell_type": "code",
      "execution_count": 136,
      "metadata": {
        "colab": {
          "base_uri": "https://localhost:8080/"
        },
        "id": "JabvkaBii84v",
        "outputId": "cbb92f3e-42a1-4226-b6af-dde1b172ab95"
      },
      "outputs": [
        {
          "name": "stdout",
          "output_type": "stream",
          "text": [
            "Epoch: 01 | Epoch Time: 0m 0s\n",
            "\t Train. Loss: 0.490 |  Train. Acc: 52.88%\n",
            "\t Val. Loss: 0.502 |  Val. Acc: 50.42%\n",
            "Epoch: 02 | Epoch Time: 0m 0s\n",
            "\t Train. Loss: 0.504 |  Train. Acc: 50.53%\n",
            "\t Val. Loss: 0.505 |  Val. Acc: 50.42%\n",
            "Epoch: 03 | Epoch Time: 0m 0s\n",
            "\t Train. Loss: 0.506 |  Train. Acc: 49.39%\n",
            "\t Val. Loss: 0.501 |  Val. Acc: 50.42%\n",
            "Epoch: 04 | Epoch Time: 0m 0s\n",
            "\t Train. Loss: 0.496 |  Train. Acc: 50.57%\n",
            "\t Val. Loss: 0.507 |  Val. Acc: 50.42%\n",
            "Epoch: 05 | Epoch Time: 0m 0s\n",
            "\t Train. Loss: 0.530 |  Train. Acc: 44.95%\n",
            "\t Val. Loss: 0.500 |  Val. Acc: 50.42%\n",
            "Epoch: 06 | Epoch Time: 0m 0s\n",
            "\t Train. Loss: 0.490 |  Train. Acc: 53.84%\n",
            "\t Val. Loss: 0.500 |  Val. Acc: 50.42%\n",
            "Epoch: 07 | Epoch Time: 0m 0s\n",
            "\t Train. Loss: 0.479 |  Train. Acc: 54.76%\n",
            "\t Val. Loss: 0.509 |  Val. Acc: 50.42%\n",
            "Epoch: 08 | Epoch Time: 0m 0s\n",
            "\t Train. Loss: 0.517 |  Train. Acc: 48.68%\n",
            "\t Val. Loss: 0.503 |  Val. Acc: 50.42%\n",
            "Epoch: 09 | Epoch Time: 0m 0s\n",
            "\t Train. Loss: 0.496 |  Train. Acc: 52.45%\n",
            "\t Val. Loss: 0.507 |  Val. Acc: 50.42%\n",
            "Epoch: 10 | Epoch Time: 0m 0s\n",
            "\t Train. Loss: 0.501 |  Train. Acc: 53.82%\n",
            "\t Val. Loss: 0.507 |  Val. Acc: 50.42%\n",
            "Diff in lstm.weight_ih_l1\n",
            "Diff in lstm.weight_hh_l1\n",
            "Diff in lstm.bias_ih_l1\n",
            "Diff in lstm.bias_hh_l1\n",
            "Diff in ff.weight\n",
            "Diff in ff.bias\n",
            "Diff in ff2.weight\n",
            "Diff in ff2.bias\n"
          ]
        }
      ],
      "source": [
        "#Check if weights are updated. \n",
        "\n",
        "old_state_dict = {}\n",
        "for key in model2.state_dict():\n",
        "  old_state_dict[key] = model2.state_dict()[key].clone()\n",
        "\n",
        "# Your training procedure\n",
        "import time\n",
        "\n",
        "def epoch_time(start_time, end_time):\n",
        "    elapsed_time = end_time - start_time\n",
        "    elapsed_mins = int(elapsed_time / 60)\n",
        "    elapsed_secs = int(elapsed_time - (elapsed_mins * 60))\n",
        "    return elapsed_mins, elapsed_secs\n",
        "\n",
        "N_EPOCHS = 10\n",
        "\n",
        "best_valid_loss = float('inf')\n",
        "\n",
        "for epoch in range(N_EPOCHS):\n",
        "\n",
        "    start_time = time.time()\n",
        "    \n",
        "    train_loss, train_acc, train_loss_list = train(model2, train_batches, optimizer2, criterion)\n",
        "    valid_loss, valid_acc = evaluate(model2, eval_batches, criterion)\n",
        "    \n",
        "    end_time = time.time()\n",
        "\n",
        "    epoch_mins, epoch_secs = epoch_time(start_time, end_time)\n",
        "    \n",
        "    # if valid_loss < best_valid_loss:\n",
        "    #     best_valid_loss = valid_loss\n",
        "    #     torch.save(model.state_dict(), 'tut2-model.pt')\n",
        "    \n",
        "    print(f'Epoch: {epoch+1:02} | Epoch Time: {epoch_mins}m {epoch_secs}s')\n",
        "    print(f'\\t Train. Loss: {train_loss:.3f} |  Train. Acc: {train_acc*100:.2f}%')\n",
        "    print(f'\\t Val. Loss: {valid_loss:.3f} |  Val. Acc: {valid_acc*100:.2f}%')\n",
        "# Save new params\n",
        "new_state_dict = {}\n",
        "for key in model2.state_dict():\n",
        "    new_state_dict[key] = model2.state_dict()[key].clone()\n",
        "\n",
        "# Compare params\n",
        "for key in old_state_dict:\n",
        "    if not (old_state_dict[key] == new_state_dict[key]).all():\n",
        "        print('Diff in {}'.format(key))"
      ]
    },
    {
      "cell_type": "code",
      "execution_count": null,
      "metadata": {
        "id": "g_OQ8V59kFqZ"
      },
      "outputs": [],
      "source": []
    }
  ],
  "metadata": {
    "accelerator": "GPU",
    "colab": {
      "authorship_tag": "ABX9TyO9JKnONk4a361UU1LYJELJ",
      "collapsed_sections": [
        "xAFTd8rWLKHt"
      ],
      "include_colab_link": true,
      "name": "price base model",
      "provenance": [],
      "toc_visible": true
    },
    "kernelspec": {
      "display_name": ".venv",
      "language": "python",
      "name": "python3"
    },
    "language_info": {
      "codemirror_mode": {
        "name": "ipython",
        "version": 3
      },
      "file_extension": ".py",
      "mimetype": "text/x-python",
      "name": "python",
      "nbconvert_exporter": "python",
      "pygments_lexer": "ipython3",
      "version": "3.9.20"
    }
  },
  "nbformat": 4,
  "nbformat_minor": 0
}
